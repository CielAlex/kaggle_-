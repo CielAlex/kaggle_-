{
 "cells": [
  {
   "cell_type": "code",
   "execution_count": 1,
   "metadata": {},
   "outputs": [],
   "source": [
    "import pandas as pd\n",
    "import numpy as np\n",
    "import gc#垃圾回收机制\n",
    "import time\n",
    "import pickle#数据保存为一个pkl格式\n",
    "import seaborn as sns\n",
    "from tqdm import tqdm\n",
    "from itertools import product\n",
    "import matplotlib.pyplot as plt\n",
    "from xgboost import XGBRegressor#特征非常少数据多的时候\n",
    "from sklearn import preprocessing \n",
    "from xgboost import plot_importance\n",
    "from sklearn.preprocessing import LabelEncoder\n",
    "from sklearn.model_selection import GridSearchCV\n",
    "from sklearn.model_selection import train_test_split"
   ]
  },
  {
   "cell_type": "code",
   "execution_count": 2,
   "metadata": {},
   "outputs": [],
   "source": [
    "def plot_features(booster, figsize):    ##绘图函数\n",
    "    fig, ax = plt.subplots(1,1,figsize=figsize)\n",
    "    return plot_importance(booster=booster, ax=ax)"
   ]
  },
  {
   "cell_type": "code",
   "execution_count": 3,
   "metadata": {},
   "outputs": [],
   "source": [
    "def downcast_dtypes(df):#数据类型转换函数\n",
    "    float_cols = [c for c in df if df[c].dtype == \"float64\"]\n",
    "    int_cols = [c for c in df if df[c].dtype in [\"int64\", \"int32\"]]\n",
    "    df[float_cols] = df[float_cols].astype(np.float16)\n",
    "    df[int_cols] = df[int_cols].astype(np.int16)\n",
    "    return df"
   ]
  },
  {
   "cell_type": "markdown",
   "metadata": {},
   "source": [
    "## 数据的读入"
   ]
  },
  {
   "cell_type": "code",
   "execution_count": 4,
   "metadata": {},
   "outputs": [],
   "source": [
    "train = pd.read_csv(\"DATA/sales_train_v2.csv\")\n",
    "test = pd.read_csv(\"DATA/test.csv\").set_index(\"ID\")\n",
    "shops = pd.read_csv(\"DATA/shops.csv\")\n",
    "cats = pd.read_csv(\"DATA/item_categories.csv\")\n",
    "items = pd.read_csv(\"DATA/items.csv\")"
   ]
  },
  {
   "cell_type": "markdown",
   "metadata": {},
   "source": [
    "##    <font color =red >针对于train数据</font>\n",
    "\n",
    "\n",
    "##  数据可视化"
   ]
  },
  {
   "cell_type": "code",
   "execution_count": 5,
   "metadata": {},
   "outputs": [
    {
     "data": {
      "image/png": "[encoded data removed]",
      "text/plain": [
       "<Figure size 720x288 with 1 Axes>"
      ]
     },
     "metadata": {
      "needs_background": "light"
     },
     "output_type": "display_data"
    },
    {
     "data": {
      "image/png": "[encoded data removed]",
      "text/plain": [
       "<Figure size 720x288 with 1 Axes>"
      ]
     },
     "metadata": {
      "needs_background": "light"
     },
     "output_type": "display_data"
    }
   ],
   "source": [
    "plt.figure(figsize=(10,4))#图的大小\n",
    "plt.xlim(-100, 3000)#范围\n",
    "sns.boxplot(x=train.item_cnt_day)#自变量\n",
    "# plt.show()\n",
    "plt.figure(figsize=(10,4))#图的大小\n",
    "plt.xlim(train.item_price.min(), train.item_price.max()*1.1)#最大值乘以1.1\n",
    "sns.boxplot(x=train.item_price)#自变量\n",
    "plt.show()"
   ]
  },
  {
   "cell_type": "markdown",
   "metadata": {},
   "source": [
    "## 数据可视化探索后进行数据的异常值删除"
   ]
  },
  {
   "cell_type": "code",
   "execution_count": 6,
   "metadata": {},
   "outputs": [],
   "source": [
    "#删除特异值\n",
    "train = train[train.item_price<100000]\n",
    "train = train[train.item_cnt_day<1000]"
   ]
  },
  {
   "cell_type": "code",
   "execution_count": 7,
   "metadata": {},
   "outputs": [
    {
     "data": {
      "text/plain": [
       "399.0"
      ]
     },
     "execution_count": 7,
     "metadata": {},
     "output_type": "execute_result"
    }
   ],
   "source": [
    "train[\"item_price\"].median()##中值"
   ]
  },
  {
   "cell_type": "code",
   "execution_count": 8,
   "metadata": {},
   "outputs": [
    {
     "data": {
      "text/html": [
       "<div>\n",
       "<style scoped>\n",
       "    .dataframe tbody tr th:only-of-type {\n",
       "        vertical-align: middle;\n",
       "    }\n",
       "\n",
       "    .dataframe tbody tr th {\n",
       "        vertical-align: top;\n",
       "    }\n",
       "\n",
       "    .dataframe thead th {\n",
       "        text-align: right;\n",
       "    }\n",
       "</style>\n",
       "<table border=\"1\" class=\"dataframe\">\n",
       "  <thead>\n",
       "    <tr style=\"text-align: right;\">\n",
       "      <th></th>\n",
       "      <th>date</th>\n",
       "      <th>date_block_num</th>\n",
       "      <th>shop_id</th>\n",
       "      <th>item_id</th>\n",
       "      <th>item_price</th>\n",
       "      <th>item_cnt_day</th>\n",
       "    </tr>\n",
       "  </thead>\n",
       "  <tbody>\n",
       "    <tr>\n",
       "      <th>0</th>\n",
       "      <td>02.01.2013</td>\n",
       "      <td>0</td>\n",
       "      <td>59</td>\n",
       "      <td>22154</td>\n",
       "      <td>999.00</td>\n",
       "      <td>1.0</td>\n",
       "    </tr>\n",
       "    <tr>\n",
       "      <th>1</th>\n",
       "      <td>03.01.2013</td>\n",
       "      <td>0</td>\n",
       "      <td>25</td>\n",
       "      <td>2552</td>\n",
       "      <td>899.00</td>\n",
       "      <td>1.0</td>\n",
       "    </tr>\n",
       "    <tr>\n",
       "      <th>2</th>\n",
       "      <td>05.01.2013</td>\n",
       "      <td>0</td>\n",
       "      <td>25</td>\n",
       "      <td>2552</td>\n",
       "      <td>899.00</td>\n",
       "      <td>-1.0</td>\n",
       "    </tr>\n",
       "    <tr>\n",
       "      <th>3</th>\n",
       "      <td>06.01.2013</td>\n",
       "      <td>0</td>\n",
       "      <td>25</td>\n",
       "      <td>2554</td>\n",
       "      <td>1709.05</td>\n",
       "      <td>1.0</td>\n",
       "    </tr>\n",
       "    <tr>\n",
       "      <th>4</th>\n",
       "      <td>15.01.2013</td>\n",
       "      <td>0</td>\n",
       "      <td>25</td>\n",
       "      <td>2555</td>\n",
       "      <td>1099.00</td>\n",
       "      <td>1.0</td>\n",
       "    </tr>\n",
       "  </tbody>\n",
       "</table>\n",
       "</div>"
      ],
      "text/plain": [
       "         date  date_block_num  shop_id  item_id  item_price  item_cnt_day\n",
       "0  02.01.2013               0       59    22154      999.00           1.0\n",
       "1  03.01.2013               0       25     2552      899.00           1.0\n",
       "2  05.01.2013               0       25     2552      899.00          -1.0\n",
       "3  06.01.2013               0       25     2554     1709.05           1.0\n",
       "4  15.01.2013               0       25     2555     1099.00           1.0"
      ]
     },
     "execution_count": 8,
     "metadata": {},
     "output_type": "execute_result"
    }
   ],
   "source": [
    "train.head()"
   ]
  },
  {
   "cell_type": "markdown",
   "metadata": {},
   "source": [
    "## 数据的填充--因为价格是没有负的"
   ]
  },
  {
   "cell_type": "code",
   "execution_count": 9,
   "metadata": {},
   "outputs": [],
   "source": [
    "median = train[(train.item_price>0)].item_price.median()"
   ]
  },
  {
   "cell_type": "code",
   "execution_count": 10,
   "metadata": {},
   "outputs": [],
   "source": [
    "train.loc[train.item_price<0, 'item_price'] = median#loc 查找该列小于0的数据填充成中值"
   ]
  },
  {
   "cell_type": "code",
   "execution_count": 11,
   "metadata": {},
   "outputs": [],
   "source": [
    "#清除重复行--删掉没必要的减少计算量\n",
    "train.drop_duplicates(subset=[\"date\",\"date_block_num\",\"shop_id\",\"item_id\",\"item_price\",\"item_cnt_day\"],keep='first',inplace=True)"
   ]
  },
  {
   "cell_type": "code",
   "execution_count": 12,
   "metadata": {},
   "outputs": [
    {
     "data": {
      "text/plain": [
       "array([ 5,  4,  6,  3,  2,  7, 10, 12, 28, 31, 26, 25, 22, 24, 21, 15, 16,\n",
       "       18, 14, 19, 42, 50, 49, 53, 52, 47, 48, 57, 58, 59, 55, 56, 36, 37,\n",
       "       35, 38, 34, 46, 41, 44, 39, 45], dtype=int64)"
      ]
     },
     "execution_count": 12,
     "metadata": {},
     "output_type": "execute_result"
    }
   ],
   "source": [
    "test[\"shop_id\"].unique()"
   ]
  },
  {
   "cell_type": "markdown",
   "metadata": {},
   "source": [
    "## 数据集中的train和test数据集保持一致性"
   ]
  },
  {
   "cell_type": "code",
   "execution_count": 13,
   "metadata": {},
   "outputs": [],
   "source": [
    "##有几家商店是彼此的复制品,改变训练集和测试集将其更改为同一商店编号\n",
    "# Якутск Орджоникидзе, 56\n",
    "train.loc[train.shop_id == 0, 'shop_id'] = 57\n",
    "test.loc[test.shop_id == 0, 'shop_id'] = 57\n",
    "# Якутск ТЦ \"Центральный\"\n",
    "train.loc[train.shop_id == 1, 'shop_id'] = 58\n",
    "test.loc[test.shop_id == 1, 'shop_id'] = 58\n",
    "# Жуковский ул. Чкалова 39м²\n",
    "train.loc[train.shop_id == 10, 'shop_id'] = 11\n",
    "test.loc[test.shop_id == 10, 'shop_id'] = 11\n",
    "\n",
    "#清除训练集中在测试集中不存在的商店并且将数据集重做\n",
    "train = train.merge(test[['shop_id']].drop_duplicates(), how = 'inner')"
   ]
  },
  {
   "cell_type": "markdown",
   "metadata": {},
   "source": [
    "## <font color=red>针对于shops数据</font>"
   ]
  },
  {
   "cell_type": "code",
   "execution_count": 14,
   "metadata": {},
   "outputs": [
    {
     "data": {
      "text/html": [
       "<div>\n",
       "<style scoped>\n",
       "    .dataframe tbody tr th:only-of-type {\n",
       "        vertical-align: middle;\n",
       "    }\n",
       "\n",
       "    .dataframe tbody tr th {\n",
       "        vertical-align: top;\n",
       "    }\n",
       "\n",
       "    .dataframe thead th {\n",
       "        text-align: right;\n",
       "    }\n",
       "</style>\n",
       "<table border=\"1\" class=\"dataframe\">\n",
       "  <thead>\n",
       "    <tr style=\"text-align: right;\">\n",
       "      <th></th>\n",
       "      <th>shop_name</th>\n",
       "      <th>shop_id</th>\n",
       "    </tr>\n",
       "  </thead>\n",
       "  <tbody>\n",
       "    <tr>\n",
       "      <th>0</th>\n",
       "      <td>!Якутск Орджоникидзе, 56 фран</td>\n",
       "      <td>0</td>\n",
       "    </tr>\n",
       "    <tr>\n",
       "      <th>1</th>\n",
       "      <td>!Якутск ТЦ \"Центральный\" фран</td>\n",
       "      <td>1</td>\n",
       "    </tr>\n",
       "    <tr>\n",
       "      <th>2</th>\n",
       "      <td>Адыгея ТЦ \"Мега\"</td>\n",
       "      <td>2</td>\n",
       "    </tr>\n",
       "    <tr>\n",
       "      <th>3</th>\n",
       "      <td>Балашиха ТРК \"Октябрь-Киномир\"</td>\n",
       "      <td>3</td>\n",
       "    </tr>\n",
       "    <tr>\n",
       "      <th>4</th>\n",
       "      <td>Волжский ТЦ \"Волга Молл\"</td>\n",
       "      <td>4</td>\n",
       "    </tr>\n",
       "  </tbody>\n",
       "</table>\n",
       "</div>"
      ],
      "text/plain": [
       "                        shop_name  shop_id\n",
       "0   !Якутск Орджоникидзе, 56 фран        0\n",
       "1   !Якутск ТЦ \"Центральный\" фран        1\n",
       "2                Адыгея ТЦ \"Мега\"        2\n",
       "3  Балашиха ТРК \"Октябрь-Киномир\"        3\n",
       "4        Волжский ТЦ \"Волга Молл\"        4"
      ]
     },
     "execution_count": 14,
     "metadata": {},
     "output_type": "execute_result"
    }
   ],
   "source": [
    "shops.head()"
   ]
  },
  {
   "cell_type": "code",
   "execution_count": 15,
   "metadata": {},
   "outputs": [],
   "source": [
    "#分解出商店所在城市\n",
    "shops.loc[shops.shop_name == 'Сергиев Посад ТЦ \"7Я\"', 'shop_name'] = 'СергиевПосад ТЦ \"7Я\"'\n",
    "shops['city'] = shops['shop_name'].str.split(' ').map(lambda x: x[0])#分开\n",
    "shops.loc[shops.city == '!Якутск', 'city'] = 'Якутск'\n",
    "shops['shop_city'] = LabelEncoder().fit_transform(shops['city'])#直接将其标签编码\n",
    "#分解出商店名称\n",
    "shops['name1'] = shops['shop_name'].apply(lambda x: x.lower()).str.replace('[^\\w\\s]', '').str.replace('\\d+','').str.strip()\n",
    "shops['shop_name1'] = LabelEncoder().fit_transform(shops['name1'])\n",
    "#分解出商店经营类型\n",
    "shops['type'] = shops['name1'].apply(lambda x: 'мтрц' if 'мтрц' in x else 'трц' if 'трц' in x else 'трк' \n",
    "                                               if 'трк' in x else 'тц' if 'тц' in x else 'тк' if 'тк' in x else 'NO_DATA')\n",
    "shops[\"shop_type\"] = shops[\"type\"].map({'NO_DATA': 0 ,'мтрц': 1 ,'тк': 2 ,'трк': 3 ,'трц': 4 ,'тц': 5 })\n",
    "\n",
    "#更新数据shop数据\n",
    "shops = shops[['shop_id','shop_city','shop_name1','shop_type']]"
   ]
  },
  {
   "cell_type": "code",
   "execution_count": 16,
   "metadata": {},
   "outputs": [
    {
     "data": {
      "text/html": [
       "<div>\n",
       "<style scoped>\n",
       "    .dataframe tbody tr th:only-of-type {\n",
       "        vertical-align: middle;\n",
       "    }\n",
       "\n",
       "    .dataframe tbody tr th {\n",
       "        vertical-align: top;\n",
       "    }\n",
       "\n",
       "    .dataframe thead th {\n",
       "        text-align: right;\n",
       "    }\n",
       "</style>\n",
       "<table border=\"1\" class=\"dataframe\">\n",
       "  <thead>\n",
       "    <tr style=\"text-align: right;\">\n",
       "      <th></th>\n",
       "      <th>shop_id</th>\n",
       "      <th>shop_city</th>\n",
       "      <th>shop_name1</th>\n",
       "      <th>shop_type</th>\n",
       "    </tr>\n",
       "  </thead>\n",
       "  <tbody>\n",
       "    <tr>\n",
       "      <th>0</th>\n",
       "      <td>0</td>\n",
       "      <td>29</td>\n",
       "      <td>56</td>\n",
       "      <td>0</td>\n",
       "    </tr>\n",
       "    <tr>\n",
       "      <th>1</th>\n",
       "      <td>1</td>\n",
       "      <td>29</td>\n",
       "      <td>58</td>\n",
       "      <td>5</td>\n",
       "    </tr>\n",
       "    <tr>\n",
       "      <th>2</th>\n",
       "      <td>2</td>\n",
       "      <td>0</td>\n",
       "      <td>0</td>\n",
       "      <td>5</td>\n",
       "    </tr>\n",
       "    <tr>\n",
       "      <th>3</th>\n",
       "      <td>3</td>\n",
       "      <td>1</td>\n",
       "      <td>1</td>\n",
       "      <td>3</td>\n",
       "    </tr>\n",
       "    <tr>\n",
       "      <th>4</th>\n",
       "      <td>4</td>\n",
       "      <td>2</td>\n",
       "      <td>2</td>\n",
       "      <td>5</td>\n",
       "    </tr>\n",
       "  </tbody>\n",
       "</table>\n",
       "</div>"
      ],
      "text/plain": [
       "   shop_id  shop_city  shop_name1  shop_type\n",
       "0        0         29          56          0\n",
       "1        1         29          58          5\n",
       "2        2          0           0          5\n",
       "3        3          1           1          3\n",
       "4        4          2           2          5"
      ]
     },
     "execution_count": 16,
     "metadata": {},
     "output_type": "execute_result"
    }
   ],
   "source": [
    "shops.head()"
   ]
  },
  {
   "cell_type": "markdown",
   "metadata": {},
   "source": [
    "## <font color=red>针对于item_category_id数据</font>"
   ]
  },
  {
   "cell_type": "code",
   "execution_count": 17,
   "metadata": {},
   "outputs": [
    {
     "data": {
      "text/html": [
       "<div>\n",
       "<style scoped>\n",
       "    .dataframe tbody tr th:only-of-type {\n",
       "        vertical-align: middle;\n",
       "    }\n",
       "\n",
       "    .dataframe tbody tr th {\n",
       "        vertical-align: top;\n",
       "    }\n",
       "\n",
       "    .dataframe thead th {\n",
       "        text-align: right;\n",
       "    }\n",
       "</style>\n",
       "<table border=\"1\" class=\"dataframe\">\n",
       "  <thead>\n",
       "    <tr style=\"text-align: right;\">\n",
       "      <th></th>\n",
       "      <th>item_category_name</th>\n",
       "      <th>item_category_id</th>\n",
       "    </tr>\n",
       "  </thead>\n",
       "  <tbody>\n",
       "    <tr>\n",
       "      <th>0</th>\n",
       "      <td>PC - Гарнитуры/Наушники</td>\n",
       "      <td>0</td>\n",
       "    </tr>\n",
       "    <tr>\n",
       "      <th>1</th>\n",
       "      <td>Аксессуары - PS2</td>\n",
       "      <td>1</td>\n",
       "    </tr>\n",
       "    <tr>\n",
       "      <th>2</th>\n",
       "      <td>Аксессуары - PS3</td>\n",
       "      <td>2</td>\n",
       "    </tr>\n",
       "    <tr>\n",
       "      <th>3</th>\n",
       "      <td>Аксессуары - PS4</td>\n",
       "      <td>3</td>\n",
       "    </tr>\n",
       "    <tr>\n",
       "      <th>4</th>\n",
       "      <td>Аксессуары - PSP</td>\n",
       "      <td>4</td>\n",
       "    </tr>\n",
       "  </tbody>\n",
       "</table>\n",
       "</div>"
      ],
      "text/plain": [
       "        item_category_name  item_category_id\n",
       "0  PC - Гарнитуры/Наушники                 0\n",
       "1         Аксессуары - PS2                 1\n",
       "2         Аксессуары - PS3                 2\n",
       "3         Аксессуары - PS4                 3\n",
       "4         Аксессуары - PSP                 4"
      ]
     },
     "execution_count": 17,
     "metadata": {},
     "output_type": "execute_result"
    }
   ],
   "source": [
    "cats.head()"
   ]
  },
  {
   "cell_type": "code",
   "execution_count": 18,
   "metadata": {},
   "outputs": [],
   "source": [
    "#分解出商品名\n",
    "cats['split'] = cats['item_category_name'].str.split('-')\n",
    "#分解出商品所在类型\n",
    "cats['type'] = cats['split'].map(lambda x: x[0].strip())\n",
    "cats['item_type'] = LabelEncoder().fit_transform(cats['type'])\n",
    "# # 去空格\n",
    "cats['subtype'] = cats['split'].map(lambda x: x[1].strip() if len(x) > 1 else x[0].strip())\n",
    "cats['item_subtype'] = LabelEncoder().fit_transform(cats['subtype'])\n",
    "#更新数据\n",
    "cats = cats[['item_category_id','item_type','item_subtype']]"
   ]
  },
  {
   "cell_type": "code",
   "execution_count": 19,
   "metadata": {},
   "outputs": [
    {
     "data": {
      "text/html": [
       "<div>\n",
       "<style scoped>\n",
       "    .dataframe tbody tr th:only-of-type {\n",
       "        vertical-align: middle;\n",
       "    }\n",
       "\n",
       "    .dataframe tbody tr th {\n",
       "        vertical-align: top;\n",
       "    }\n",
       "\n",
       "    .dataframe thead th {\n",
       "        text-align: right;\n",
       "    }\n",
       "</style>\n",
       "<table border=\"1\" class=\"dataframe\">\n",
       "  <thead>\n",
       "    <tr style=\"text-align: right;\">\n",
       "      <th></th>\n",
       "      <th>item_category_id</th>\n",
       "      <th>item_type</th>\n",
       "      <th>item_subtype</th>\n",
       "    </tr>\n",
       "  </thead>\n",
       "  <tbody>\n",
       "    <tr>\n",
       "      <th>0</th>\n",
       "      <td>0</td>\n",
       "      <td>0</td>\n",
       "      <td>29</td>\n",
       "    </tr>\n",
       "    <tr>\n",
       "      <th>1</th>\n",
       "      <td>1</td>\n",
       "      <td>1</td>\n",
       "      <td>9</td>\n",
       "    </tr>\n",
       "    <tr>\n",
       "      <th>2</th>\n",
       "      <td>2</td>\n",
       "      <td>1</td>\n",
       "      <td>10</td>\n",
       "    </tr>\n",
       "    <tr>\n",
       "      <th>3</th>\n",
       "      <td>3</td>\n",
       "      <td>1</td>\n",
       "      <td>11</td>\n",
       "    </tr>\n",
       "    <tr>\n",
       "      <th>4</th>\n",
       "      <td>4</td>\n",
       "      <td>1</td>\n",
       "      <td>13</td>\n",
       "    </tr>\n",
       "  </tbody>\n",
       "</table>\n",
       "</div>"
      ],
      "text/plain": [
       "   item_category_id  item_type  item_subtype\n",
       "0                 0          0            29\n",
       "1                 1          1             9\n",
       "2                 2          1            10\n",
       "3                 3          1            11\n",
       "4                 4          1            13"
      ]
     },
     "execution_count": 19,
     "metadata": {},
     "output_type": "execute_result"
    }
   ],
   "source": [
    "cats.head()"
   ]
  },
  {
   "cell_type": "markdown",
   "metadata": {},
   "source": [
    "## <font color=red>针对于item数据</font>"
   ]
  },
  {
   "cell_type": "code",
   "execution_count": 21,
   "metadata": {},
   "outputs": [
    {
     "data": {
      "text/html": [
       "<div>\n",
       "<style scoped>\n",
       "    .dataframe tbody tr th:only-of-type {\n",
       "        vertical-align: middle;\n",
       "    }\n",
       "\n",
       "    .dataframe tbody tr th {\n",
       "        vertical-align: top;\n",
       "    }\n",
       "\n",
       "    .dataframe thead th {\n",
       "        text-align: right;\n",
       "    }\n",
       "</style>\n",
       "<table border=\"1\" class=\"dataframe\">\n",
       "  <thead>\n",
       "    <tr style=\"text-align: right;\">\n",
       "      <th></th>\n",
       "      <th>item_name</th>\n",
       "      <th>item_id</th>\n",
       "      <th>item_category_id</th>\n",
       "    </tr>\n",
       "  </thead>\n",
       "  <tbody>\n",
       "    <tr>\n",
       "      <th>0</th>\n",
       "      <td>! ВО ВЛАСТИ НАВАЖДЕНИЯ (ПЛАСТ.)         D</td>\n",
       "      <td>0</td>\n",
       "      <td>40</td>\n",
       "    </tr>\n",
       "    <tr>\n",
       "      <th>1</th>\n",
       "      <td>!ABBYY FineReader 12 Professional Edition Full...</td>\n",
       "      <td>1</td>\n",
       "      <td>76</td>\n",
       "    </tr>\n",
       "    <tr>\n",
       "      <th>2</th>\n",
       "      <td>***В ЛУЧАХ СЛАВЫ   (UNV)                    D</td>\n",
       "      <td>2</td>\n",
       "      <td>40</td>\n",
       "    </tr>\n",
       "    <tr>\n",
       "      <th>3</th>\n",
       "      <td>***ГОЛУБАЯ ВОЛНА  (Univ)                      D</td>\n",
       "      <td>3</td>\n",
       "      <td>40</td>\n",
       "    </tr>\n",
       "    <tr>\n",
       "      <th>4</th>\n",
       "      <td>***КОРОБКА (СТЕКЛО)                       D</td>\n",
       "      <td>4</td>\n",
       "      <td>40</td>\n",
       "    </tr>\n",
       "  </tbody>\n",
       "</table>\n",
       "</div>"
      ],
      "text/plain": [
       "                                           item_name  item_id  \\\n",
       "0          ! ВО ВЛАСТИ НАВАЖДЕНИЯ (ПЛАСТ.)         D        0   \n",
       "1  !ABBYY FineReader 12 Professional Edition Full...        1   \n",
       "2      ***В ЛУЧАХ СЛАВЫ   (UNV)                    D        2   \n",
       "3    ***ГОЛУБАЯ ВОЛНА  (Univ)                      D        3   \n",
       "4        ***КОРОБКА (СТЕКЛО)                       D        4   \n",
       "\n",
       "   item_category_id  \n",
       "0                40  \n",
       "1                76  \n",
       "2                40  \n",
       "3                40  \n",
       "4                40  "
      ]
     },
     "execution_count": 21,
     "metadata": {},
     "output_type": "execute_result"
    }
   ],
   "source": [
    "items.head()"
   ]
  },
  {
   "cell_type": "code",
   "execution_count": 22,
   "metadata": {},
   "outputs": [
    {
     "data": {
      "text/plain": [
       "array(['! ВО ВЛАСТИ НАВАЖДЕНИЯ (ПЛАСТ.)         D',\n",
       "       '!ABBYY FineReader 12 Professional Edition Full [PC, Цифровая версия]',\n",
       "       '***В ЛУЧАХ СЛАВЫ   (UNV)                    D', ...,\n",
       "       'Язык запросов 1С:Предприятия 8 (+CD). Хрусталева Е.Ю.',\n",
       "       'Яйцо для Little Inu', 'Яйцо дракона (Игра престолов)'],\n",
       "      dtype=object)"
      ]
     },
     "execution_count": 22,
     "metadata": {},
     "output_type": "execute_result"
    }
   ],
   "source": [
    "items[\"item_name\"].unique()"
   ]
  },
  {
   "cell_type": "code",
   "execution_count": 23,
   "metadata": {},
   "outputs": [],
   "source": [
    "#分解\n",
    "items['name_s1'], items['name_s2'] = items['item_name'].str.split('[', 1).str##分割成两个\n",
    "items['name_s1'], items['name_s3'] = items['item_name'].str.split('(', 1).str##\n",
    "items['name_s2'] = items['name_s2'].str.replace('[^A-Za-z0-9А-Яа-я]+', ' ').str.lower()#所有大写的均变成小写\n",
    "items['name_s3'] = items['name_s3'].str.replace('[^A-Za-z0-9А-Яа-я]+', ' ').str.lower()\n",
    "items = items.fillna('0')#空值用“0”来填充\n",
    "items['name_1'] = LabelEncoder().fit_transform(items['name_s1'])\n",
    "items['name_2'] = LabelEncoder().fit_transform(items['name_s2'])\n",
    "items['name_3'] = LabelEncoder().fit_transform(items['name_s3'])\n",
    "#更新数据items\n",
    "items = items[['item_id','item_category_id','name_1','name_2','name_3']]"
   ]
  },
  {
   "cell_type": "code",
   "execution_count": 24,
   "metadata": {},
   "outputs": [
    {
     "data": {
      "text/html": [
       "<div>\n",
       "<style scoped>\n",
       "    .dataframe tbody tr th:only-of-type {\n",
       "        vertical-align: middle;\n",
       "    }\n",
       "\n",
       "    .dataframe tbody tr th {\n",
       "        vertical-align: top;\n",
       "    }\n",
       "\n",
       "    .dataframe thead th {\n",
       "        text-align: right;\n",
       "    }\n",
       "</style>\n",
       "<table border=\"1\" class=\"dataframe\">\n",
       "  <thead>\n",
       "    <tr style=\"text-align: right;\">\n",
       "      <th></th>\n",
       "      <th>item_id</th>\n",
       "      <th>item_category_id</th>\n",
       "      <th>name_1</th>\n",
       "      <th>name_2</th>\n",
       "      <th>name_3</th>\n",
       "    </tr>\n",
       "  </thead>\n",
       "  <tbody>\n",
       "    <tr>\n",
       "      <th>0</th>\n",
       "      <td>0</td>\n",
       "      <td>40</td>\n",
       "      <td>0</td>\n",
       "      <td>4</td>\n",
       "      <td>1331</td>\n",
       "    </tr>\n",
       "    <tr>\n",
       "      <th>1</th>\n",
       "      <td>1</td>\n",
       "      <td>76</td>\n",
       "      <td>1</td>\n",
       "      <td>64</td>\n",
       "      <td>42</td>\n",
       "    </tr>\n",
       "    <tr>\n",
       "      <th>2</th>\n",
       "      <td>2</td>\n",
       "      <td>40</td>\n",
       "      <td>2</td>\n",
       "      <td>4</td>\n",
       "      <td>1011</td>\n",
       "    </tr>\n",
       "    <tr>\n",
       "      <th>3</th>\n",
       "      <td>3</td>\n",
       "      <td>40</td>\n",
       "      <td>3</td>\n",
       "      <td>4</td>\n",
       "      <td>1010</td>\n",
       "    </tr>\n",
       "    <tr>\n",
       "      <th>4</th>\n",
       "      <td>4</td>\n",
       "      <td>40</td>\n",
       "      <td>4</td>\n",
       "      <td>4</td>\n",
       "      <td>1572</td>\n",
       "    </tr>\n",
       "  </tbody>\n",
       "</table>\n",
       "</div>"
      ],
      "text/plain": [
       "   item_id  item_category_id  name_1  name_2  name_3\n",
       "0        0                40       0       4    1331\n",
       "1        1                76       1      64      42\n",
       "2        2                40       2       4    1011\n",
       "3        3                40       3       4    1010\n",
       "4        4                40       4       4    1572"
      ]
     },
     "execution_count": 24,
     "metadata": {},
     "output_type": "execute_result"
    }
   ],
   "source": [
    "items.head()"
   ]
  },
  {
   "cell_type": "markdown",
   "metadata": {},
   "source": [
    "## <font color=red >特征重做--特征添加</font>--目的就是做出item_cnt_month"
   ]
  },
  {
   "cell_type": "code",
   "execution_count": 26,
   "metadata": {},
   "outputs": [
    {
     "data": {
      "text/html": [
       "<div>\n",
       "<style scoped>\n",
       "    .dataframe tbody tr th:only-of-type {\n",
       "        vertical-align: middle;\n",
       "    }\n",
       "\n",
       "    .dataframe tbody tr th {\n",
       "        vertical-align: top;\n",
       "    }\n",
       "\n",
       "    .dataframe thead th {\n",
       "        text-align: right;\n",
       "    }\n",
       "</style>\n",
       "<table border=\"1\" class=\"dataframe\">\n",
       "  <thead>\n",
       "    <tr style=\"text-align: right;\">\n",
       "      <th></th>\n",
       "      <th>shop_id</th>\n",
       "      <th>item_id</th>\n",
       "    </tr>\n",
       "    <tr>\n",
       "      <th>ID</th>\n",
       "      <th></th>\n",
       "      <th></th>\n",
       "    </tr>\n",
       "  </thead>\n",
       "  <tbody>\n",
       "    <tr>\n",
       "      <th>0</th>\n",
       "      <td>5</td>\n",
       "      <td>5037</td>\n",
       "    </tr>\n",
       "    <tr>\n",
       "      <th>1</th>\n",
       "      <td>5</td>\n",
       "      <td>5320</td>\n",
       "    </tr>\n",
       "    <tr>\n",
       "      <th>2</th>\n",
       "      <td>5</td>\n",
       "      <td>5233</td>\n",
       "    </tr>\n",
       "    <tr>\n",
       "      <th>3</th>\n",
       "      <td>5</td>\n",
       "      <td>5232</td>\n",
       "    </tr>\n",
       "    <tr>\n",
       "      <th>4</th>\n",
       "      <td>5</td>\n",
       "      <td>5268</td>\n",
       "    </tr>\n",
       "  </tbody>\n",
       "</table>\n",
       "</div>"
      ],
      "text/plain": [
       "    shop_id  item_id\n",
       "ID                  \n",
       "0         5     5037\n",
       "1         5     5320\n",
       "2         5     5233\n",
       "3         5     5232\n",
       "4         5     5268"
      ]
     },
     "execution_count": 26,
     "metadata": {},
     "output_type": "execute_result"
    }
   ],
   "source": [
    "test.head()"
   ]
  },
  {
   "cell_type": "code",
   "execution_count": 27,
   "metadata": {},
   "outputs": [],
   "source": [
    "#对于每个月，我们从该月的所有商店/产品的而唯一标识符组合创建一个网格\n",
    "matrix = []#空列表\n",
    "cols = ['date_block_num','shop_id','item_id']#训练集里面的特征\n",
    "for i in train['date_block_num'].unique():#找出每一个,只相当于对每一个进行后续操作,减少运算的意思\n",
    "    sales = train[train.date_block_num==i]#取出来相当于前提条件\n",
    "    matrix.append(np.array(list(product([i], sales.shop_id.unique(), sales.item_id.unique())), dtype='int16'))#进行添加到列表里面\n",
    "matrix = pd.DataFrame(np.vstack(matrix), columns=cols)#做成df的格式\n",
    "matrix['date_block_num'] = matrix['date_block_num'].astype(np.int8)#转换数据类型\n",
    "matrix['shop_id'] = matrix['shop_id'].astype(np.int8)\n",
    "matrix['item_id'] = matrix['item_id'].astype(np.int16)\n",
    "matrix.sort_values(cols,inplace=True)#进行排序"
   ]
  },
  {
   "cell_type": "code",
   "execution_count": 28,
   "metadata": {},
   "outputs": [
    {
     "data": {
      "text/html": [
       "<div>\n",
       "<style scoped>\n",
       "    .dataframe tbody tr th:only-of-type {\n",
       "        vertical-align: middle;\n",
       "    }\n",
       "\n",
       "    .dataframe tbody tr th {\n",
       "        vertical-align: top;\n",
       "    }\n",
       "\n",
       "    .dataframe thead th {\n",
       "        text-align: right;\n",
       "    }\n",
       "</style>\n",
       "<table border=\"1\" class=\"dataframe\">\n",
       "  <thead>\n",
       "    <tr style=\"text-align: right;\">\n",
       "      <th></th>\n",
       "      <th>date_block_num</th>\n",
       "      <th>shop_id</th>\n",
       "      <th>item_id</th>\n",
       "    </tr>\n",
       "  </thead>\n",
       "  <tbody>\n",
       "    <tr>\n",
       "      <th>85820</th>\n",
       "      <td>0</td>\n",
       "      <td>2</td>\n",
       "      <td>19</td>\n",
       "    </tr>\n",
       "    <tr>\n",
       "      <th>88148</th>\n",
       "      <td>0</td>\n",
       "      <td>2</td>\n",
       "      <td>27</td>\n",
       "    </tr>\n",
       "    <tr>\n",
       "      <th>90860</th>\n",
       "      <td>0</td>\n",
       "      <td>2</td>\n",
       "      <td>28</td>\n",
       "    </tr>\n",
       "    <tr>\n",
       "      <th>89310</th>\n",
       "      <td>0</td>\n",
       "      <td>2</td>\n",
       "      <td>29</td>\n",
       "    </tr>\n",
       "    <tr>\n",
       "      <th>85240</th>\n",
       "      <td>0</td>\n",
       "      <td>2</td>\n",
       "      <td>32</td>\n",
       "    </tr>\n",
       "  </tbody>\n",
       "</table>\n",
       "</div>"
      ],
      "text/plain": [
       "       date_block_num  shop_id  item_id\n",
       "85820               0        2       19\n",
       "88148               0        2       27\n",
       "90860               0        2       28\n",
       "89310               0        2       29\n",
       "85240               0        2       32"
      ]
     },
     "execution_count": 28,
     "metadata": {},
     "output_type": "execute_result"
    }
   ],
   "source": [
    "matrix.head()"
   ]
  },
  {
   "cell_type": "code",
   "execution_count": 29,
   "metadata": {},
   "outputs": [],
   "source": [
    "#求每月该商品的售出量:item_cnt_month\n",
    "group = train.groupby(['date_block_num','shop_id','item_id']).agg({'item_cnt_day': ['sum']})##groupby的作用，相当于一个月卖出的东西\n",
    "group.columns = ['item_cnt_month']\n",
    "group.reset_index(inplace=True)#重置索引\n",
    "\n",
    "matrix = pd.merge(matrix, group, on=cols, how='left')#进行组合\n",
    "##指定这一列的值#做好了标签列\n",
    "matrix['item_cnt_month'] = (matrix['item_cnt_month'].fillna(0).clip(0,20).astype(np.float16))#把这一列空值进行填充和进行范围限制"
   ]
  },
  {
   "cell_type": "code",
   "execution_count": 31,
   "metadata": {},
   "outputs": [
    {
     "data": {
      "text/html": [
       "<div>\n",
       "<style scoped>\n",
       "    .dataframe tbody tr th:only-of-type {\n",
       "        vertical-align: middle;\n",
       "    }\n",
       "\n",
       "    .dataframe tbody tr th {\n",
       "        vertical-align: top;\n",
       "    }\n",
       "\n",
       "    .dataframe thead th {\n",
       "        text-align: right;\n",
       "    }\n",
       "</style>\n",
       "<table border=\"1\" class=\"dataframe\">\n",
       "  <thead>\n",
       "    <tr style=\"text-align: right;\">\n",
       "      <th></th>\n",
       "      <th>date_block_num</th>\n",
       "      <th>shop_id</th>\n",
       "      <th>item_id</th>\n",
       "      <th>item_cnt_month</th>\n",
       "    </tr>\n",
       "  </thead>\n",
       "  <tbody>\n",
       "    <tr>\n",
       "      <th>0</th>\n",
       "      <td>0</td>\n",
       "      <td>2</td>\n",
       "      <td>19</td>\n",
       "      <td>0.0</td>\n",
       "    </tr>\n",
       "    <tr>\n",
       "      <th>1</th>\n",
       "      <td>0</td>\n",
       "      <td>2</td>\n",
       "      <td>27</td>\n",
       "      <td>1.0</td>\n",
       "    </tr>\n",
       "    <tr>\n",
       "      <th>2</th>\n",
       "      <td>0</td>\n",
       "      <td>2</td>\n",
       "      <td>28</td>\n",
       "      <td>0.0</td>\n",
       "    </tr>\n",
       "    <tr>\n",
       "      <th>3</th>\n",
       "      <td>0</td>\n",
       "      <td>2</td>\n",
       "      <td>29</td>\n",
       "      <td>0.0</td>\n",
       "    </tr>\n",
       "    <tr>\n",
       "      <th>4</th>\n",
       "      <td>0</td>\n",
       "      <td>2</td>\n",
       "      <td>32</td>\n",
       "      <td>0.0</td>\n",
       "    </tr>\n",
       "  </tbody>\n",
       "</table>\n",
       "</div>"
      ],
      "text/plain": [
       "   date_block_num  shop_id  item_id  item_cnt_month\n",
       "0               0        2       19             0.0\n",
       "1               0        2       27             1.0\n",
       "2               0        2       28             0.0\n",
       "3               0        2       29             0.0\n",
       "4               0        2       32             0.0"
      ]
     },
     "execution_count": 31,
     "metadata": {},
     "output_type": "execute_result"
    }
   ],
   "source": [
    "matrix.head()"
   ]
  },
  {
   "cell_type": "code",
   "execution_count": 32,
   "metadata": {},
   "outputs": [
    {
     "data": {
      "text/html": [
       "<div>\n",
       "<style scoped>\n",
       "    .dataframe tbody tr th:only-of-type {\n",
       "        vertical-align: middle;\n",
       "    }\n",
       "\n",
       "    .dataframe tbody tr th {\n",
       "        vertical-align: top;\n",
       "    }\n",
       "\n",
       "    .dataframe thead th {\n",
       "        text-align: right;\n",
       "    }\n",
       "</style>\n",
       "<table border=\"1\" class=\"dataframe\">\n",
       "  <thead>\n",
       "    <tr style=\"text-align: right;\">\n",
       "      <th></th>\n",
       "      <th>shop_id</th>\n",
       "      <th>item_id</th>\n",
       "    </tr>\n",
       "    <tr>\n",
       "      <th>ID</th>\n",
       "      <th></th>\n",
       "      <th></th>\n",
       "    </tr>\n",
       "  </thead>\n",
       "  <tbody>\n",
       "    <tr>\n",
       "      <th>0</th>\n",
       "      <td>5</td>\n",
       "      <td>5037</td>\n",
       "    </tr>\n",
       "    <tr>\n",
       "      <th>1</th>\n",
       "      <td>5</td>\n",
       "      <td>5320</td>\n",
       "    </tr>\n",
       "    <tr>\n",
       "      <th>2</th>\n",
       "      <td>5</td>\n",
       "      <td>5233</td>\n",
       "    </tr>\n",
       "    <tr>\n",
       "      <th>3</th>\n",
       "      <td>5</td>\n",
       "      <td>5232</td>\n",
       "    </tr>\n",
       "    <tr>\n",
       "      <th>4</th>\n",
       "      <td>5</td>\n",
       "      <td>5268</td>\n",
       "    </tr>\n",
       "  </tbody>\n",
       "</table>\n",
       "</div>"
      ],
      "text/plain": [
       "    shop_id  item_id\n",
       "ID                  \n",
       "0         5     5037\n",
       "1         5     5320\n",
       "2         5     5233\n",
       "3         5     5232\n",
       "4         5     5268"
      ]
     },
     "execution_count": 32,
     "metadata": {},
     "output_type": "execute_result"
    }
   ],
   "source": [
    "test.head()"
   ]
  },
  {
   "cell_type": "code",
   "execution_count": 33,
   "metadata": {},
   "outputs": [],
   "source": [
    "#要使用时间技巧，将测试集和matrix进行组合\n",
    "test['date_block_num'] = 34"
   ]
  },
  {
   "cell_type": "code",
   "execution_count": 34,
   "metadata": {},
   "outputs": [
    {
     "data": {
      "text/html": [
       "<div>\n",
       "<style scoped>\n",
       "    .dataframe tbody tr th:only-of-type {\n",
       "        vertical-align: middle;\n",
       "    }\n",
       "\n",
       "    .dataframe tbody tr th {\n",
       "        vertical-align: top;\n",
       "    }\n",
       "\n",
       "    .dataframe thead th {\n",
       "        text-align: right;\n",
       "    }\n",
       "</style>\n",
       "<table border=\"1\" class=\"dataframe\">\n",
       "  <thead>\n",
       "    <tr style=\"text-align: right;\">\n",
       "      <th></th>\n",
       "      <th>shop_id</th>\n",
       "      <th>item_id</th>\n",
       "      <th>date_block_num</th>\n",
       "    </tr>\n",
       "    <tr>\n",
       "      <th>ID</th>\n",
       "      <th></th>\n",
       "      <th></th>\n",
       "      <th></th>\n",
       "    </tr>\n",
       "  </thead>\n",
       "  <tbody>\n",
       "    <tr>\n",
       "      <th>0</th>\n",
       "      <td>5</td>\n",
       "      <td>5037</td>\n",
       "      <td>34</td>\n",
       "    </tr>\n",
       "    <tr>\n",
       "      <th>1</th>\n",
       "      <td>5</td>\n",
       "      <td>5320</td>\n",
       "      <td>34</td>\n",
       "    </tr>\n",
       "    <tr>\n",
       "      <th>2</th>\n",
       "      <td>5</td>\n",
       "      <td>5233</td>\n",
       "      <td>34</td>\n",
       "    </tr>\n",
       "    <tr>\n",
       "      <th>3</th>\n",
       "      <td>5</td>\n",
       "      <td>5232</td>\n",
       "      <td>34</td>\n",
       "    </tr>\n",
       "    <tr>\n",
       "      <th>4</th>\n",
       "      <td>5</td>\n",
       "      <td>5268</td>\n",
       "      <td>34</td>\n",
       "    </tr>\n",
       "  </tbody>\n",
       "</table>\n",
       "</div>"
      ],
      "text/plain": [
       "    shop_id  item_id  date_block_num\n",
       "ID                                  \n",
       "0         5     5037              34\n",
       "1         5     5320              34\n",
       "2         5     5233              34\n",
       "3         5     5232              34\n",
       "4         5     5268              34"
      ]
     },
     "execution_count": 34,
     "metadata": {},
     "output_type": "execute_result"
    }
   ],
   "source": [
    "test.head()"
   ]
  },
  {
   "cell_type": "code",
   "execution_count": 35,
   "metadata": {},
   "outputs": [],
   "source": [
    "matrix = pd.concat([matrix, test], ignore_index=True, sort=False, keys=cols)##数据进行组合"
   ]
  },
  {
   "cell_type": "code",
   "execution_count": 36,
   "metadata": {},
   "outputs": [
    {
     "data": {
      "text/html": [
       "<div>\n",
       "<style scoped>\n",
       "    .dataframe tbody tr th:only-of-type {\n",
       "        vertical-align: middle;\n",
       "    }\n",
       "\n",
       "    .dataframe tbody tr th {\n",
       "        vertical-align: top;\n",
       "    }\n",
       "\n",
       "    .dataframe thead th {\n",
       "        text-align: right;\n",
       "    }\n",
       "</style>\n",
       "<table border=\"1\" class=\"dataframe\">\n",
       "  <thead>\n",
       "    <tr style=\"text-align: right;\">\n",
       "      <th></th>\n",
       "      <th>date_block_num</th>\n",
       "      <th>shop_id</th>\n",
       "      <th>item_id</th>\n",
       "      <th>item_cnt_month</th>\n",
       "    </tr>\n",
       "  </thead>\n",
       "  <tbody>\n",
       "    <tr>\n",
       "      <th>0</th>\n",
       "      <td>0</td>\n",
       "      <td>2</td>\n",
       "      <td>19</td>\n",
       "      <td>0.0</td>\n",
       "    </tr>\n",
       "    <tr>\n",
       "      <th>1</th>\n",
       "      <td>0</td>\n",
       "      <td>2</td>\n",
       "      <td>27</td>\n",
       "      <td>1.0</td>\n",
       "    </tr>\n",
       "    <tr>\n",
       "      <th>2</th>\n",
       "      <td>0</td>\n",
       "      <td>2</td>\n",
       "      <td>28</td>\n",
       "      <td>0.0</td>\n",
       "    </tr>\n",
       "    <tr>\n",
       "      <th>3</th>\n",
       "      <td>0</td>\n",
       "      <td>2</td>\n",
       "      <td>29</td>\n",
       "      <td>0.0</td>\n",
       "    </tr>\n",
       "    <tr>\n",
       "      <th>4</th>\n",
       "      <td>0</td>\n",
       "      <td>2</td>\n",
       "      <td>32</td>\n",
       "      <td>0.0</td>\n",
       "    </tr>\n",
       "  </tbody>\n",
       "</table>\n",
       "</div>"
      ],
      "text/plain": [
       "   date_block_num  shop_id  item_id  item_cnt_month\n",
       "0               0        2       19             0.0\n",
       "1               0        2       27             1.0\n",
       "2               0        2       28             0.0\n",
       "3               0        2       29             0.0\n",
       "4               0        2       32             0.0"
      ]
     },
     "execution_count": 36,
     "metadata": {},
     "output_type": "execute_result"
    }
   ],
   "source": [
    "matrix.head()"
   ]
  },
  {
   "cell_type": "code",
   "execution_count": 37,
   "metadata": {},
   "outputs": [],
   "source": [
    "matrix.fillna(0, inplace=True) # 34 month"
   ]
  },
  {
   "cell_type": "code",
   "execution_count": 38,
   "metadata": {},
   "outputs": [
    {
     "data": {
      "text/html": [
       "<div>\n",
       "<style scoped>\n",
       "    .dataframe tbody tr th:only-of-type {\n",
       "        vertical-align: middle;\n",
       "    }\n",
       "\n",
       "    .dataframe tbody tr th {\n",
       "        vertical-align: top;\n",
       "    }\n",
       "\n",
       "    .dataframe thead th {\n",
       "        text-align: right;\n",
       "    }\n",
       "</style>\n",
       "<table border=\"1\" class=\"dataframe\">\n",
       "  <thead>\n",
       "    <tr style=\"text-align: right;\">\n",
       "      <th></th>\n",
       "      <th>date_block_num</th>\n",
       "      <th>shop_id</th>\n",
       "      <th>item_id</th>\n",
       "      <th>item_cnt_month</th>\n",
       "    </tr>\n",
       "  </thead>\n",
       "  <tbody>\n",
       "    <tr>\n",
       "      <th>0</th>\n",
       "      <td>0</td>\n",
       "      <td>2</td>\n",
       "      <td>19</td>\n",
       "      <td>0.0</td>\n",
       "    </tr>\n",
       "    <tr>\n",
       "      <th>1</th>\n",
       "      <td>0</td>\n",
       "      <td>2</td>\n",
       "      <td>27</td>\n",
       "      <td>1.0</td>\n",
       "    </tr>\n",
       "    <tr>\n",
       "      <th>2</th>\n",
       "      <td>0</td>\n",
       "      <td>2</td>\n",
       "      <td>28</td>\n",
       "      <td>0.0</td>\n",
       "    </tr>\n",
       "    <tr>\n",
       "      <th>3</th>\n",
       "      <td>0</td>\n",
       "      <td>2</td>\n",
       "      <td>29</td>\n",
       "      <td>0.0</td>\n",
       "    </tr>\n",
       "    <tr>\n",
       "      <th>4</th>\n",
       "      <td>0</td>\n",
       "      <td>2</td>\n",
       "      <td>32</td>\n",
       "      <td>0.0</td>\n",
       "    </tr>\n",
       "  </tbody>\n",
       "</table>\n",
       "</div>"
      ],
      "text/plain": [
       "   date_block_num  shop_id  item_id  item_cnt_month\n",
       "0               0        2       19             0.0\n",
       "1               0        2       27             1.0\n",
       "2               0        2       28             0.0\n",
       "3               0        2       29             0.0\n",
       "4               0        2       32             0.0"
      ]
     },
     "execution_count": 38,
     "metadata": {},
     "output_type": "execute_result"
    }
   ],
   "source": [
    "matrix.head()"
   ]
  },
  {
   "cell_type": "code",
   "execution_count": 39,
   "metadata": {},
   "outputs": [
    {
     "data": {
      "text/plain": [
       "100"
      ]
     },
     "execution_count": 39,
     "metadata": {},
     "output_type": "execute_result"
    }
   ],
   "source": [
    "# del test##删除test\n",
    "gc.collect()#垃圾回收机制"
   ]
  },
  {
   "cell_type": "markdown",
   "metadata": {},
   "source": [
    "## <font color=red >数据组合</font>"
   ]
  },
  {
   "cell_type": "code",
   "execution_count": 40,
   "metadata": {},
   "outputs": [
    {
     "data": {
      "text/plain": [
       "83"
      ]
     },
     "execution_count": 40,
     "metadata": {},
     "output_type": "execute_result"
    }
   ],
   "source": [
    "matrix = pd.merge(matrix, shops, on=['shop_id'], how='left')#数据的组合\n",
    "matrix = pd.merge(matrix, items, on=['item_id'], how='left')#数据的组合\n",
    "matrix = pd.merge(matrix, cats, on=['item_category_id'], how='left')\n",
    "del shops,items,cats\n",
    "gc.collect()"
   ]
  },
  {
   "cell_type": "code",
   "execution_count": 41,
   "metadata": {},
   "outputs": [
    {
     "data": {
      "text/plain": [
       "(5, 13)"
      ]
     },
     "execution_count": 41,
     "metadata": {},
     "output_type": "execute_result"
    }
   ],
   "source": [
    "matrix.head().shape##做好的一个数据"
   ]
  },
  {
   "cell_type": "markdown",
   "metadata": {},
   "source": [
    "## 把所有的分散的数据做成一个文件，那么这里也提供一个思路是否数据预处理可以结束？直接进行模型的训练和预测？"
   ]
  },
  {
   "cell_type": "code",
   "execution_count": 42,
   "metadata": {},
   "outputs": [
    {
     "data": {
      "text/plain": [
       "Index(['date_block_num', 'shop_id', 'item_id', 'item_cnt_month', 'shop_city',\n",
       "       'shop_name1', 'shop_type', 'item_category_id', 'name_1', 'name_2',\n",
       "       'name_3', 'item_type', 'item_subtype'],\n",
       "      dtype='object')"
      ]
     },
     "execution_count": 42,
     "metadata": {},
     "output_type": "execute_result"
    }
   ],
   "source": [
    "matrix.columns"
   ]
  },
  {
   "cell_type": "code",
   "execution_count": 47,
   "metadata": {},
   "outputs": [
    {
     "name": "stderr",
     "output_type": "stream",
     "text": [
      "'[image.png]' 不是内部或外部命令，也不是可运行的程序\n",
      "或批处理文件。\n"
     ]
    }
   ],
   "source": [
    "![image.png](attachment:image.png)"
   ]
  },
  {
   "cell_type": "markdown",
   "metadata": {},
   "source": [
    "## 真正特征工程"
   ]
  },
  {
   "cell_type": "code",
   "execution_count": 43,
   "metadata": {},
   "outputs": [],
   "source": [
    "##定义滞后特征函数相当于将df里的滞后\n",
    "def lag_feature(df, lags, col):\n",
    "    tmp = df[['date_block_num','shop_id','item_id',col]]\n",
    "    for i in lags:\n",
    "        shifted = tmp.copy()\n",
    "        shifted.columns = ['date_block_num','shop_id','item_id', col+'_lag_'+str(i)]\n",
    "        shifted['date_block_num'] += i##一个一个来\n",
    "        df = pd.merge(df, shifted, on=['date_block_num','shop_id','item_id'], how='left')#组合\n",
    "    return df\n",
    "##定义添加的特征\n",
    "def tianjia1(list_names,list_num):\n",
    "    global matrix#全局化\n",
    "    str1 = list_names[0]\n",
    "    for i in range(1,len(list_names)):\n",
    "        str1 = str1+'_and_'+list_names[i]\n",
    "    str1 = str1+'_avg_item_cnt'##连接符\n",
    "    \n",
    "    group = matrix.groupby(list_names).agg({'item_cnt_month': ['mean']})#相当于重做特征变成均值\n",
    "    group.columns = [str1]\n",
    "    group.reset_index(inplace=True)#重置索引\n",
    "##每新增特征之后就要和原来的进行合并\n",
    "    matrix = pd.merge(matrix, group, on=list_names, how='left')\n",
    "    matrix[str1] = matrix[str1].astype(np.float16)##转换数据类类型\n",
    "    matrix = lag_feature(matrix, list_num, str1)\n",
    "    matrix.drop([str1], axis=1, inplace=True)##和并之后删除"
   ]
  },
  {
   "cell_type": "code",
   "execution_count": 44,
   "metadata": {},
   "outputs": [
    {
     "name": "stdout",
     "output_type": "stream",
     "text": [
      "(8860658, 34)\n"
     ]
    },
    {
     "data": {
      "text/html": [
       "<div>\n",
       "<style scoped>\n",
       "    .dataframe tbody tr th:only-of-type {\n",
       "        vertical-align: middle;\n",
       "    }\n",
       "\n",
       "    .dataframe tbody tr th {\n",
       "        vertical-align: top;\n",
       "    }\n",
       "\n",
       "    .dataframe thead th {\n",
       "        text-align: right;\n",
       "    }\n",
       "</style>\n",
       "<table border=\"1\" class=\"dataframe\">\n",
       "  <thead>\n",
       "    <tr style=\"text-align: right;\">\n",
       "      <th></th>\n",
       "      <th>date_block_num</th>\n",
       "      <th>shop_id</th>\n",
       "      <th>item_id</th>\n",
       "      <th>item_cnt_month</th>\n",
       "      <th>shop_city</th>\n",
       "      <th>shop_name1</th>\n",
       "      <th>shop_type</th>\n",
       "      <th>item_category_id</th>\n",
       "      <th>name_1</th>\n",
       "      <th>name_2</th>\n",
       "      <th>...</th>\n",
       "      <th>date_block_num_and_shop_name1_avg_item_cnt_lag_1</th>\n",
       "      <th>date_block_num_and_shop_type_avg_item_cnt_lag_1</th>\n",
       "      <th>date_block_num_and_item_category_id_avg_item_cnt_lag_1</th>\n",
       "      <th>date_block_num_and_item_type_avg_item_cnt_lag_1</th>\n",
       "      <th>date_block_num_and_item_subtype_avg_item_cnt_lag_1</th>\n",
       "      <th>date_block_num_and_shop_id_and_item_id_avg_item_cnt_lag_1</th>\n",
       "      <th>date_block_num_and_shop_id_and_name_1_avg_item_cnt_lag_1</th>\n",
       "      <th>date_block_num_and_shop_id_and_name_2_avg_item_cnt_lag_1</th>\n",
       "      <th>date_block_num_and_shop_id_and_name_3_avg_item_cnt_lag_1</th>\n",
       "      <th>date_block_num_and_shop_id_and_item_category_id_avg_item_cnt_lag_1</th>\n",
       "    </tr>\n",
       "  </thead>\n",
       "  <tbody>\n",
       "    <tr>\n",
       "      <th>0</th>\n",
       "      <td>0</td>\n",
       "      <td>2</td>\n",
       "      <td>19</td>\n",
       "      <td>0.0</td>\n",
       "      <td>0</td>\n",
       "      <td>0</td>\n",
       "      <td>5</td>\n",
       "      <td>40</td>\n",
       "      <td>19</td>\n",
       "      <td>4</td>\n",
       "      <td>...</td>\n",
       "      <td>NaN</td>\n",
       "      <td>NaN</td>\n",
       "      <td>NaN</td>\n",
       "      <td>NaN</td>\n",
       "      <td>NaN</td>\n",
       "      <td>NaN</td>\n",
       "      <td>NaN</td>\n",
       "      <td>NaN</td>\n",
       "      <td>NaN</td>\n",
       "      <td>NaN</td>\n",
       "    </tr>\n",
       "    <tr>\n",
       "      <th>1</th>\n",
       "      <td>0</td>\n",
       "      <td>2</td>\n",
       "      <td>27</td>\n",
       "      <td>1.0</td>\n",
       "      <td>0</td>\n",
       "      <td>0</td>\n",
       "      <td>5</td>\n",
       "      <td>19</td>\n",
       "      <td>27</td>\n",
       "      <td>77</td>\n",
       "      <td>...</td>\n",
       "      <td>NaN</td>\n",
       "      <td>NaN</td>\n",
       "      <td>NaN</td>\n",
       "      <td>NaN</td>\n",
       "      <td>NaN</td>\n",
       "      <td>NaN</td>\n",
       "      <td>NaN</td>\n",
       "      <td>NaN</td>\n",
       "      <td>NaN</td>\n",
       "      <td>NaN</td>\n",
       "    </tr>\n",
       "    <tr>\n",
       "      <th>2</th>\n",
       "      <td>0</td>\n",
       "      <td>2</td>\n",
       "      <td>28</td>\n",
       "      <td>0.0</td>\n",
       "      <td>0</td>\n",
       "      <td>0</td>\n",
       "      <td>5</td>\n",
       "      <td>30</td>\n",
       "      <td>28</td>\n",
       "      <td>108</td>\n",
       "      <td>...</td>\n",
       "      <td>NaN</td>\n",
       "      <td>NaN</td>\n",
       "      <td>NaN</td>\n",
       "      <td>NaN</td>\n",
       "      <td>NaN</td>\n",
       "      <td>NaN</td>\n",
       "      <td>NaN</td>\n",
       "      <td>NaN</td>\n",
       "      <td>NaN</td>\n",
       "      <td>NaN</td>\n",
       "    </tr>\n",
       "  </tbody>\n",
       "</table>\n",
       "<p>3 rows × 34 columns</p>\n",
       "</div>"
      ],
      "text/plain": [
       "   date_block_num  shop_id  item_id  item_cnt_month  shop_city  shop_name1  \\\n",
       "0               0        2       19             0.0          0           0   \n",
       "1               0        2       27             1.0          0           0   \n",
       "2               0        2       28             0.0          0           0   \n",
       "\n",
       "   shop_type  item_category_id  name_1  name_2  ...  \\\n",
       "0          5                40      19       4  ...   \n",
       "1          5                19      27      77  ...   \n",
       "2          5                30      28     108  ...   \n",
       "\n",
       "   date_block_num_and_shop_name1_avg_item_cnt_lag_1  \\\n",
       "0                                               NaN   \n",
       "1                                               NaN   \n",
       "2                                               NaN   \n",
       "\n",
       "   date_block_num_and_shop_type_avg_item_cnt_lag_1  \\\n",
       "0                                              NaN   \n",
       "1                                              NaN   \n",
       "2                                              NaN   \n",
       "\n",
       "   date_block_num_and_item_category_id_avg_item_cnt_lag_1  \\\n",
       "0                                                NaN        \n",
       "1                                                NaN        \n",
       "2                                                NaN        \n",
       "\n",
       "   date_block_num_and_item_type_avg_item_cnt_lag_1  \\\n",
       "0                                              NaN   \n",
       "1                                              NaN   \n",
       "2                                              NaN   \n",
       "\n",
       "   date_block_num_and_item_subtype_avg_item_cnt_lag_1  \\\n",
       "0                                                NaN    \n",
       "1                                                NaN    \n",
       "2                                                NaN    \n",
       "\n",
       "   date_block_num_and_shop_id_and_item_id_avg_item_cnt_lag_1  \\\n",
       "0                                                NaN           \n",
       "1                                                NaN           \n",
       "2                                                NaN           \n",
       "\n",
       "   date_block_num_and_shop_id_and_name_1_avg_item_cnt_lag_1  \\\n",
       "0                                                NaN          \n",
       "1                                                NaN          \n",
       "2                                                NaN          \n",
       "\n",
       "   date_block_num_and_shop_id_and_name_2_avg_item_cnt_lag_1  \\\n",
       "0                                                NaN          \n",
       "1                                                NaN          \n",
       "2                                                NaN          \n",
       "\n",
       "   date_block_num_and_shop_id_and_name_3_avg_item_cnt_lag_1  \\\n",
       "0                                                NaN          \n",
       "1                                                NaN          \n",
       "2                                                NaN          \n",
       "\n",
       "   date_block_num_and_shop_id_and_item_category_id_avg_item_cnt_lag_1  \n",
       "0                                                NaN                   \n",
       "1                                                NaN                   \n",
       "2                                                NaN                   \n",
       "\n",
       "[3 rows x 34 columns]"
      ]
     },
     "execution_count": 44,
     "metadata": {},
     "output_type": "execute_result"
    }
   ],
   "source": [
    "matrix = lag_feature(matrix, [1,2,3], 'item_cnt_month')#将月销售量分别滞后1，2，3个月\n",
    "tianjia1(['date_block_num'],[1])#将每个月的销售量滞后1个月\n",
    "tianjia1(['date_block_num', 'item_id'],[1,2,3])#将每个月的每个商品的平均销售量分别滞后1，2，3个月\n",
    "tianjia1(['date_block_num', 'shop_id'],[1,2,3])#将每个月的每个商店的平均销售量分别滞后1，2，3个月\n",
    "tianjia1(['date_block_num', 'shop_city'],[1])\n",
    "tianjia1(['date_block_num', 'shop_name1'],[1])\n",
    "tianjia1(['date_block_num', 'shop_type'],[1])\n",
    "tianjia1(['date_block_num', 'item_category_id'],[1])\n",
    "tianjia1(['date_block_num', 'item_type'],[1])\n",
    "tianjia1(['date_block_num', 'item_subtype'],[1])\n",
    "tianjia1(['date_block_num', 'shop_id', 'item_id'],[1])\n",
    "tianjia1(['date_block_num', 'shop_id', 'name_1'],[1])\n",
    "tianjia1(['date_block_num', 'shop_id', 'name_2'],[1])\n",
    "tianjia1(['date_block_num', 'shop_id', 'name_3'],[1])\n",
    "tianjia1(['date_block_num', 'shop_id', 'item_category_id'],[1])\n",
    "\n",
    "print(matrix.shape)\n",
    "matrix.head(3)"
   ]
  },
  {
   "cell_type": "code",
   "execution_count": 45,
   "metadata": {},
   "outputs": [],
   "source": [
    "##以均值进行聚合\n",
    "group = train.groupby(['item_id']).agg({'item_price': ['mean']})\n",
    "group.columns = ['item_avg_item_price']\n",
    "group.reset_index(inplace=True)\n",
    "\n",
    "##组合之后重新转换数据类型\n",
    "matrix = pd.merge(matrix, group, on=['item_id'], how='left')\n",
    "matrix['item_avg_item_price'] = matrix['item_avg_item_price'].astype(np.float16)\n",
    "\n",
    "##二者均值聚合\n",
    "group = train.groupby(['date_block_num','item_id']).agg({'item_price': ['mean']})\n",
    "group.columns = ['date_item_avg_item_price']\n",
    "group.reset_index(inplace=True)\n",
    "\n",
    "##组合之后再就是重新装换数据类型\n",
    "matrix = pd.merge(matrix, group, on=['date_block_num','item_id'], how='left')\n",
    "matrix['date_item_avg_item_price'] = matrix['date_item_avg_item_price'].astype(np.float16)\n",
    "\n",
    "lags = [1,2,3,4,5,6]##滞后特征函数\n",
    "matrix = lag_feature(matrix, lags, 'date_item_avg_item_price')\n",
    "\n",
    "##重做新特征，用现有的二者相除\n",
    "for i in lags:\n",
    "    matrix['delta_price_lag_'+str(i)] = \\\n",
    "        (matrix['date_item_avg_item_price_lag_'+str(i)] - matrix['item_avg_item_price']) / matrix['item_avg_item_price']\n",
    "##进行一个选择\n",
    "def select_trend(row):\n",
    "    for i in lags:\n",
    "        if row['delta_price_lag_'+str(i)]:\n",
    "            return row['delta_price_lag_'+str(i)] \n",
    "    return 0\n",
    "    \n",
    "matrix['delta_price_lag'] = matrix.apply(select_trend, axis=1)\n",
    "matrix['delta_price_lag'] = matrix['delta_price_lag'].astype(np.float16)\n",
    "matrix['delta_price_lag'].fillna(0, inplace=True)##空值用0来填充\n",
    "\n",
    "##删除这两列所带有的一系列的特征##简便的删除\n",
    "fetures_to_drop = ['item_avg_item_price', 'date_item_avg_item_price']\n",
    "for i in lags:\n",
    "    fetures_to_drop += ['date_item_avg_item_price_lag_'+str(i)]\n",
    "    fetures_to_drop += ['delta_price_lag_'+str(i)]\n",
    "\n",
    "matrix.drop(fetures_to_drop, axis=1, inplace=True)"
   ]
  },
  {
   "cell_type": "code",
   "execution_count": 46,
   "metadata": {},
   "outputs": [
    {
     "data": {
      "text/plain": [
       "1190.9191312789917"
      ]
     },
     "execution_count": 46,
     "metadata": {},
     "output_type": "execute_result"
    }
   ],
   "source": [
    "##迭代循环把负数去掉，重做两个特征\n",
    "ts = time.time()\n",
    "cache = {}##缓存字典\n",
    "matrix['item_shop_last_sale'] = -1\n",
    "matrix['item_shop_last_sale'] = matrix['item_shop_last_sale'].astype(np.int8)\n",
    "for idx, row in matrix.iterrows(): #对整个matrix进行遍历，返回的是索引是索引，row是row\n",
    "    key = str(row.item_id)+' '+str(row.shop_id)#两个相加\n",
    "    if key not in cache:##判断两个相加的不在cache里面\n",
    "        if row.item_cnt_month!=0:#并且item_cnt_month不等于0的时候\n",
    "            cache[key] = row.date_block_num#就把二者相加的放到里面去\n",
    "    else:\n",
    "        last_date_block_num = cache[key]##如果在里面的话就找到“item_shop_last_sale”重新赋一个值\n",
    "        matrix.at[idx, 'item_shop_last_sale'] = row.date_block_num - last_date_block_num\n",
    "        cache[key] = row.date_block_num         \n",
    "\n",
    "cache = {}\n",
    "matrix['item_last_sale'] = -1\n",
    "matrix['item_last_sale'] = matrix['item_last_sale'].astype(np.int8)\n",
    "for idx, row in matrix.iterrows():    \n",
    "    key = row.item_id\n",
    "    if key not in cache:\n",
    "        if row.item_cnt_month!=0:\n",
    "            cache[key] = row.date_block_num\n",
    "    else:\n",
    "        last_date_block_num = cache[key]\n",
    "        if row.date_block_num>last_date_block_num:\n",
    "            matrix.at[idx, 'item_last_sale'] = row.date_block_num - last_date_block_num\n",
    "            cache[key] = row.date_block_num         \n",
    "time.time() - ts"
   ]
  },
  {
   "cell_type": "code",
   "execution_count": 48,
   "metadata": {},
   "outputs": [],
   "source": [
    "matrix['item_first_sale'] = matrix['date_block_num'] - matrix.groupby('item_id')['date_block_num'].transform('min')"
   ]
  },
  {
   "cell_type": "code",
   "execution_count": 49,
   "metadata": {},
   "outputs": [],
   "source": [
    "##空值填充\n",
    "def fill_na(df):\n",
    "    for col in df.columns:\n",
    "        if ('_lag_' in col) & (df[col].isnull().any()):\n",
    "            if ('item_cnt' in col):\n",
    "                df[col].fillna(0, inplace=True)         \n",
    "    return df\n",
    "matrix = matrix[matrix.date_block_num >3]##考虑滞后的参数\n",
    "matrix = fill_na(matrix)\n",
    "matrix = downcast_dtypes(matrix)##数据类型装换函数"
   ]
  },
  {
   "cell_type": "code",
   "execution_count": 50,
   "metadata": {},
   "outputs": [],
   "source": [
    "#添加月,日变量\n",
    "matrix['year']  =  matrix['date_block_num']/12+2013##商+初始年份\n",
    "matrix['month'] = matrix['date_block_num'] % 12##余数就是月份\n",
    "days = pd.Series([31,28,31,30,31,30,31,31,30,31,30,31])#月的天数\n",
    "matrix['days']  = matrix['month'].map(days).astype(np.int8)#转换数据类型\n",
    "matrix['year']  = matrix['year'].astype(np.int16)"
   ]
  },
  {
   "cell_type": "code",
   "execution_count": 51,
   "metadata": {},
   "outputs": [
    {
     "name": "stdout",
     "output_type": "stream",
     "text": [
      "(7756739, 48)\n"
     ]
    },
    {
     "data": {
      "text/html": [
       "<div>\n",
       "<style scoped>\n",
       "    .dataframe tbody tr th:only-of-type {\n",
       "        vertical-align: middle;\n",
       "    }\n",
       "\n",
       "    .dataframe tbody tr th {\n",
       "        vertical-align: top;\n",
       "    }\n",
       "\n",
       "    .dataframe thead th {\n",
       "        text-align: right;\n",
       "    }\n",
       "</style>\n",
       "<table border=\"1\" class=\"dataframe\">\n",
       "  <thead>\n",
       "    <tr style=\"text-align: right;\">\n",
       "      <th></th>\n",
       "      <th>date_block_num</th>\n",
       "      <th>shop_id</th>\n",
       "      <th>item_id</th>\n",
       "      <th>item_cnt_month</th>\n",
       "      <th>shop_city</th>\n",
       "      <th>shop_name1</th>\n",
       "      <th>shop_type</th>\n",
       "      <th>item_category_id</th>\n",
       "      <th>name_1</th>\n",
       "      <th>name_2</th>\n",
       "      <th>...</th>\n",
       "      <th>year</th>\n",
       "      <th>month</th>\n",
       "      <th>days</th>\n",
       "      <th>week0</th>\n",
       "      <th>week1</th>\n",
       "      <th>week2</th>\n",
       "      <th>week3</th>\n",
       "      <th>week4</th>\n",
       "      <th>week5</th>\n",
       "      <th>week6</th>\n",
       "    </tr>\n",
       "  </thead>\n",
       "  <tbody>\n",
       "    <tr>\n",
       "      <th>0</th>\n",
       "      <td>4</td>\n",
       "      <td>2</td>\n",
       "      <td>27</td>\n",
       "      <td>0.0</td>\n",
       "      <td>0</td>\n",
       "      <td>0</td>\n",
       "      <td>5</td>\n",
       "      <td>19</td>\n",
       "      <td>27</td>\n",
       "      <td>77</td>\n",
       "      <td>...</td>\n",
       "      <td>2013</td>\n",
       "      <td>4</td>\n",
       "      <td>31</td>\n",
       "      <td>4</td>\n",
       "      <td>4</td>\n",
       "      <td>4</td>\n",
       "      <td>5</td>\n",
       "      <td>5</td>\n",
       "      <td>5</td>\n",
       "      <td>4</td>\n",
       "    </tr>\n",
       "    <tr>\n",
       "      <th>1</th>\n",
       "      <td>4</td>\n",
       "      <td>2</td>\n",
       "      <td>28</td>\n",
       "      <td>0.0</td>\n",
       "      <td>0</td>\n",
       "      <td>0</td>\n",
       "      <td>5</td>\n",
       "      <td>30</td>\n",
       "      <td>28</td>\n",
       "      <td>108</td>\n",
       "      <td>...</td>\n",
       "      <td>2013</td>\n",
       "      <td>4</td>\n",
       "      <td>31</td>\n",
       "      <td>4</td>\n",
       "      <td>4</td>\n",
       "      <td>4</td>\n",
       "      <td>5</td>\n",
       "      <td>5</td>\n",
       "      <td>5</td>\n",
       "      <td>4</td>\n",
       "    </tr>\n",
       "    <tr>\n",
       "      <th>2</th>\n",
       "      <td>4</td>\n",
       "      <td>2</td>\n",
       "      <td>29</td>\n",
       "      <td>0.0</td>\n",
       "      <td>0</td>\n",
       "      <td>0</td>\n",
       "      <td>5</td>\n",
       "      <td>23</td>\n",
       "      <td>29</td>\n",
       "      <td>124</td>\n",
       "      <td>...</td>\n",
       "      <td>2013</td>\n",
       "      <td>4</td>\n",
       "      <td>31</td>\n",
       "      <td>4</td>\n",
       "      <td>4</td>\n",
       "      <td>4</td>\n",
       "      <td>5</td>\n",
       "      <td>5</td>\n",
       "      <td>5</td>\n",
       "      <td>4</td>\n",
       "    </tr>\n",
       "  </tbody>\n",
       "</table>\n",
       "<p>3 rows × 48 columns</p>\n",
       "</div>"
      ],
      "text/plain": [
       "   date_block_num  shop_id  item_id  item_cnt_month  shop_city  shop_name1  \\\n",
       "0               4        2       27             0.0          0           0   \n",
       "1               4        2       28             0.0          0           0   \n",
       "2               4        2       29             0.0          0           0   \n",
       "\n",
       "   shop_type  item_category_id  name_1  name_2  ...  year  month  days  week0  \\\n",
       "0          5                19      27      77  ...  2013      4    31      4   \n",
       "1          5                30      28     108  ...  2013      4    31      4   \n",
       "2          5                23      29     124  ...  2013      4    31      4   \n",
       "\n",
       "   week1  week2  week3  week4  week5  week6  \n",
       "0      4      4      5      5      5      4  \n",
       "1      4      4      5      5      5      4  \n",
       "2      4      4      5      5      5      4  \n",
       "\n",
       "[3 rows x 48 columns]"
      ]
     },
     "execution_count": 51,
     "metadata": {},
     "output_type": "execute_result"
    }
   ],
   "source": [
    "#添加周变量\n",
    "weekarr = []\n",
    "t = 2\n",
    "count = 0\n",
    "for w in range(3):##三次\n",
    "    for i in [31,28,31,30,31,30,31,31,30,31,30,31]:##12个月的天数\n",
    "        a = [0,0,0,0,0,0,0,count]\n",
    "        count+=1\n",
    "        for j in range(i):\n",
    "            a[t]+=1\n",
    "            if t==6:\n",
    "                t=-1\n",
    "            t+=1\n",
    "        weekarr.append(a)##周数据\n",
    "weekarr = pd.DataFrame(np.vstack(weekarr), columns=['week0','week1','week2','week3','week4','week5','week6','date_block_num'])\n",
    "matrix = pd.merge(matrix, weekarr, on=['date_block_num'], how='left')##和原来要进行组合\n",
    "\n",
    "print(matrix.shape)\n",
    "matrix.head(3)"
   ]
  },
  {
   "cell_type": "markdown",
   "metadata": {},
   "source": [
    "## 到此为止数据已经做完啦"
   ]
  },
  {
   "cell_type": "code",
   "execution_count": 52,
   "metadata": {},
   "outputs": [
    {
     "data": {
      "text/plain": [
       "Index(['date_block_num', 'shop_id', 'item_id', 'item_cnt_month', 'shop_city',\n",
       "       'shop_name1', 'shop_type', 'item_category_id', 'name_1', 'name_2',\n",
       "       'name_3', 'item_type', 'item_subtype', 'item_cnt_month_lag_1',\n",
       "       'item_cnt_month_lag_2', 'item_cnt_month_lag_3',\n",
       "       'date_block_num_avg_item_cnt_lag_1',\n",
       "       'date_block_num_and_item_id_avg_item_cnt_lag_1',\n",
       "       'date_block_num_and_item_id_avg_item_cnt_lag_2',\n",
       "       'date_block_num_and_item_id_avg_item_cnt_lag_3',\n",
       "       'date_block_num_and_shop_id_avg_item_cnt_lag_1',\n",
       "       'date_block_num_and_shop_id_avg_item_cnt_lag_2',\n",
       "       'date_block_num_and_shop_id_avg_item_cnt_lag_3',\n",
       "       'date_block_num_and_shop_city_avg_item_cnt_lag_1',\n",
       "       'date_block_num_and_shop_name1_avg_item_cnt_lag_1',\n",
       "       'date_block_num_and_shop_type_avg_item_cnt_lag_1',\n",
       "       'date_block_num_and_item_category_id_avg_item_cnt_lag_1',\n",
       "       'date_block_num_and_item_type_avg_item_cnt_lag_1',\n",
       "       'date_block_num_and_item_subtype_avg_item_cnt_lag_1',\n",
       "       'date_block_num_and_shop_id_and_item_id_avg_item_cnt_lag_1',\n",
       "       'date_block_num_and_shop_id_and_name_1_avg_item_cnt_lag_1',\n",
       "       'date_block_num_and_shop_id_and_name_2_avg_item_cnt_lag_1',\n",
       "       'date_block_num_and_shop_id_and_name_3_avg_item_cnt_lag_1',\n",
       "       'date_block_num_and_shop_id_and_item_category_id_avg_item_cnt_lag_1',\n",
       "       'delta_price_lag', 'item_shop_last_sale', 'item_last_sale',\n",
       "       'item_first_sale', 'year', 'month', 'days', 'week0', 'week1', 'week2',\n",
       "       'week3', 'week4', 'week5', 'week6'],\n",
       "      dtype='object')"
      ]
     },
     "execution_count": 52,
     "metadata": {},
     "output_type": "execute_result"
    }
   ],
   "source": [
    "matrix.columns"
   ]
  },
  {
   "cell_type": "code",
   "execution_count": 53,
   "metadata": {},
   "outputs": [
    {
     "name": "stdout",
     "output_type": "stream",
     "text": [
      "<class 'pandas.core.frame.DataFrame'>\n",
      "Int64Index: 7756739 entries, 0 to 7756738\n",
      "Data columns (total 48 columns):\n",
      "date_block_num                                                        int16\n",
      "shop_id                                                               int16\n",
      "item_id                                                               int16\n",
      "item_cnt_month                                                        float16\n",
      "shop_city                                                             int16\n",
      "shop_name1                                                            int16\n",
      "shop_type                                                             int16\n",
      "item_category_id                                                      int16\n",
      "name_1                                                                int16\n",
      "name_2                                                                int16\n",
      "name_3                                                                int16\n",
      "item_type                                                             int16\n",
      "item_subtype                                                          int16\n",
      "item_cnt_month_lag_1                                                  float16\n",
      "item_cnt_month_lag_2                                                  float16\n",
      "item_cnt_month_lag_3                                                  float16\n",
      "date_block_num_avg_item_cnt_lag_1                                     float16\n",
      "date_block_num_and_item_id_avg_item_cnt_lag_1                         float16\n",
      "date_block_num_and_item_id_avg_item_cnt_lag_2                         float16\n",
      "date_block_num_and_item_id_avg_item_cnt_lag_3                         float16\n",
      "date_block_num_and_shop_id_avg_item_cnt_lag_1                         float16\n",
      "date_block_num_and_shop_id_avg_item_cnt_lag_2                         float16\n",
      "date_block_num_and_shop_id_avg_item_cnt_lag_3                         float16\n",
      "date_block_num_and_shop_city_avg_item_cnt_lag_1                       float16\n",
      "date_block_num_and_shop_name1_avg_item_cnt_lag_1                      float16\n",
      "date_block_num_and_shop_type_avg_item_cnt_lag_1                       float16\n",
      "date_block_num_and_item_category_id_avg_item_cnt_lag_1                float16\n",
      "date_block_num_and_item_type_avg_item_cnt_lag_1                       float16\n",
      "date_block_num_and_item_subtype_avg_item_cnt_lag_1                    float16\n",
      "date_block_num_and_shop_id_and_item_id_avg_item_cnt_lag_1             float16\n",
      "date_block_num_and_shop_id_and_name_1_avg_item_cnt_lag_1              float16\n",
      "date_block_num_and_shop_id_and_name_2_avg_item_cnt_lag_1              float16\n",
      "date_block_num_and_shop_id_and_name_3_avg_item_cnt_lag_1              float16\n",
      "date_block_num_and_shop_id_and_item_category_id_avg_item_cnt_lag_1    float16\n",
      "delta_price_lag                                                       float16\n",
      "item_shop_last_sale                                                   int8\n",
      "item_last_sale                                                        int8\n",
      "item_first_sale                                                       int16\n",
      "year                                                                  int16\n",
      "month                                                                 int16\n",
      "days                                                                  int8\n",
      "week0                                                                 int32\n",
      "week1                                                                 int32\n",
      "week2                                                                 int32\n",
      "week3                                                                 int32\n",
      "week4                                                                 int32\n",
      "week5                                                                 int32\n",
      "week6                                                                 int32\n",
      "dtypes: float16(23), int16(15), int32(7), int8(3)\n",
      "memory usage: 850.7 MB\n"
     ]
    }
   ],
   "source": [
    "matrix.info()"
   ]
  },
  {
   "cell_type": "code",
   "execution_count": 54,
   "metadata": {},
   "outputs": [
    {
     "data": {
      "text/html": [
       "<div>\n",
       "<style scoped>\n",
       "    .dataframe tbody tr th:only-of-type {\n",
       "        vertical-align: middle;\n",
       "    }\n",
       "\n",
       "    .dataframe tbody tr th {\n",
       "        vertical-align: top;\n",
       "    }\n",
       "\n",
       "    .dataframe thead th {\n",
       "        text-align: right;\n",
       "    }\n",
       "</style>\n",
       "<table border=\"1\" class=\"dataframe\">\n",
       "  <thead>\n",
       "    <tr style=\"text-align: right;\">\n",
       "      <th></th>\n",
       "      <th>date_block_num</th>\n",
       "      <th>shop_id</th>\n",
       "      <th>item_id</th>\n",
       "      <th>item_cnt_month</th>\n",
       "      <th>shop_city</th>\n",
       "      <th>shop_name1</th>\n",
       "      <th>shop_type</th>\n",
       "      <th>item_category_id</th>\n",
       "      <th>name_1</th>\n",
       "      <th>name_2</th>\n",
       "      <th>...</th>\n",
       "      <th>year</th>\n",
       "      <th>month</th>\n",
       "      <th>days</th>\n",
       "      <th>week0</th>\n",
       "      <th>week1</th>\n",
       "      <th>week2</th>\n",
       "      <th>week3</th>\n",
       "      <th>week4</th>\n",
       "      <th>week5</th>\n",
       "      <th>week6</th>\n",
       "    </tr>\n",
       "  </thead>\n",
       "  <tbody>\n",
       "    <tr>\n",
       "      <th>0</th>\n",
       "      <td>4</td>\n",
       "      <td>2</td>\n",
       "      <td>27</td>\n",
       "      <td>0.0</td>\n",
       "      <td>0</td>\n",
       "      <td>0</td>\n",
       "      <td>5</td>\n",
       "      <td>19</td>\n",
       "      <td>27</td>\n",
       "      <td>77</td>\n",
       "      <td>...</td>\n",
       "      <td>2013</td>\n",
       "      <td>4</td>\n",
       "      <td>31</td>\n",
       "      <td>4</td>\n",
       "      <td>4</td>\n",
       "      <td>4</td>\n",
       "      <td>5</td>\n",
       "      <td>5</td>\n",
       "      <td>5</td>\n",
       "      <td>4</td>\n",
       "    </tr>\n",
       "    <tr>\n",
       "      <th>1</th>\n",
       "      <td>4</td>\n",
       "      <td>2</td>\n",
       "      <td>28</td>\n",
       "      <td>0.0</td>\n",
       "      <td>0</td>\n",
       "      <td>0</td>\n",
       "      <td>5</td>\n",
       "      <td>30</td>\n",
       "      <td>28</td>\n",
       "      <td>108</td>\n",
       "      <td>...</td>\n",
       "      <td>2013</td>\n",
       "      <td>4</td>\n",
       "      <td>31</td>\n",
       "      <td>4</td>\n",
       "      <td>4</td>\n",
       "      <td>4</td>\n",
       "      <td>5</td>\n",
       "      <td>5</td>\n",
       "      <td>5</td>\n",
       "      <td>4</td>\n",
       "    </tr>\n",
       "    <tr>\n",
       "      <th>2</th>\n",
       "      <td>4</td>\n",
       "      <td>2</td>\n",
       "      <td>29</td>\n",
       "      <td>0.0</td>\n",
       "      <td>0</td>\n",
       "      <td>0</td>\n",
       "      <td>5</td>\n",
       "      <td>23</td>\n",
       "      <td>29</td>\n",
       "      <td>124</td>\n",
       "      <td>...</td>\n",
       "      <td>2013</td>\n",
       "      <td>4</td>\n",
       "      <td>31</td>\n",
       "      <td>4</td>\n",
       "      <td>4</td>\n",
       "      <td>4</td>\n",
       "      <td>5</td>\n",
       "      <td>5</td>\n",
       "      <td>5</td>\n",
       "      <td>4</td>\n",
       "    </tr>\n",
       "    <tr>\n",
       "      <th>3</th>\n",
       "      <td>4</td>\n",
       "      <td>2</td>\n",
       "      <td>30</td>\n",
       "      <td>0.0</td>\n",
       "      <td>0</td>\n",
       "      <td>0</td>\n",
       "      <td>5</td>\n",
       "      <td>40</td>\n",
       "      <td>30</td>\n",
       "      <td>4</td>\n",
       "      <td>...</td>\n",
       "      <td>2013</td>\n",
       "      <td>4</td>\n",
       "      <td>31</td>\n",
       "      <td>4</td>\n",
       "      <td>4</td>\n",
       "      <td>4</td>\n",
       "      <td>5</td>\n",
       "      <td>5</td>\n",
       "      <td>5</td>\n",
       "      <td>4</td>\n",
       "    </tr>\n",
       "    <tr>\n",
       "      <th>4</th>\n",
       "      <td>4</td>\n",
       "      <td>2</td>\n",
       "      <td>31</td>\n",
       "      <td>0.0</td>\n",
       "      <td>0</td>\n",
       "      <td>0</td>\n",
       "      <td>5</td>\n",
       "      <td>37</td>\n",
       "      <td>31</td>\n",
       "      <td>4</td>\n",
       "      <td>...</td>\n",
       "      <td>2013</td>\n",
       "      <td>4</td>\n",
       "      <td>31</td>\n",
       "      <td>4</td>\n",
       "      <td>4</td>\n",
       "      <td>4</td>\n",
       "      <td>5</td>\n",
       "      <td>5</td>\n",
       "      <td>5</td>\n",
       "      <td>4</td>\n",
       "    </tr>\n",
       "  </tbody>\n",
       "</table>\n",
       "<p>5 rows × 48 columns</p>\n",
       "</div>"
      ],
      "text/plain": [
       "   date_block_num  shop_id  item_id  item_cnt_month  shop_city  shop_name1  \\\n",
       "0               4        2       27             0.0          0           0   \n",
       "1               4        2       28             0.0          0           0   \n",
       "2               4        2       29             0.0          0           0   \n",
       "3               4        2       30             0.0          0           0   \n",
       "4               4        2       31             0.0          0           0   \n",
       "\n",
       "   shop_type  item_category_id  name_1  name_2  ...  year  month  days  week0  \\\n",
       "0          5                19      27      77  ...  2013      4    31      4   \n",
       "1          5                30      28     108  ...  2013      4    31      4   \n",
       "2          5                23      29     124  ...  2013      4    31      4   \n",
       "3          5                40      30       4  ...  2013      4    31      4   \n",
       "4          5                37      31       4  ...  2013      4    31      4   \n",
       "\n",
       "   week1  week2  week3  week4  week5  week6  \n",
       "0      4      4      5      5      5      4  \n",
       "1      4      4      5      5      5      4  \n",
       "2      4      4      5      5      5      4  \n",
       "3      4      4      5      5      5      4  \n",
       "4      4      4      5      5      5      4  \n",
       "\n",
       "[5 rows x 48 columns]"
      ]
     },
     "execution_count": 54,
     "metadata": {},
     "output_type": "execute_result"
    }
   ],
   "source": [
    "matrix.head()"
   ]
  },
  {
   "cell_type": "code",
   "execution_count": 55,
   "metadata": {},
   "outputs": [
    {
     "data": {
      "text/plain": [
       "129"
      ]
     },
     "execution_count": 55,
     "metadata": {},
     "output_type": "execute_result"
    }
   ],
   "source": [
    "matrix.to_pickle('data2.pkl')\n",
    "del matrix\n",
    "gc.collect()"
   ]
  },
  {
   "cell_type": "code",
   "execution_count": null,
   "metadata": {},
   "outputs": [],
   "source": [
    "test  = pd.read_csv('DATA/test.csv')\n",
    "test.to_pickle('test.pkl')"
   ]
  },
  {
   "cell_type": "code",
   "execution_count": null,
   "metadata": {},
   "outputs": [],
   "source": []
  },
  {
   "cell_type": "markdown",
   "metadata": {},
   "source": [
    "## 读取处理完的数据"
   ]
  },
  {
   "cell_type": "code",
   "execution_count": 56,
   "metadata": {},
   "outputs": [
    {
     "data": {
      "text/plain": [
       "7"
      ]
     },
     "execution_count": 56,
     "metadata": {},
     "output_type": "execute_result"
    }
   ],
   "source": [
    "data = pd.read_pickle('data2.pkl')##读取\n",
    "data = data[[\n",
    "    'date_block_num', \n",
    "    'shop_id', \n",
    "    'item_id', \n",
    "    'item_cnt_month', \n",
    "#     'shop_city',\n",
    "    'shop_type', \n",
    "    'item_category_id',\n",
    "#     'item_type', \n",
    "    'name_1',\n",
    "    'name_2',\n",
    "    'name_3',\n",
    "    'item_subtype',\n",
    "    'year',\n",
    "    'month',\n",
    "    'days', \n",
    "    'item_cnt_month_lag_1', \n",
    "    'item_cnt_month_lag_2',\n",
    "    'item_cnt_month_lag_3', \n",
    "    'date_block_num_avg_item_cnt_lag_1',\n",
    "    'date_block_num_and_item_id_avg_item_cnt_lag_1',\n",
    "    'date_block_num_and_item_id_avg_item_cnt_lag_2',\n",
    "    'date_block_num_and_item_id_avg_item_cnt_lag_3',\n",
    "    'date_block_num_and_shop_id_avg_item_cnt_lag_1',\n",
    "    'date_block_num_and_shop_id_avg_item_cnt_lag_2',\n",
    "    'date_block_num_and_shop_id_avg_item_cnt_lag_3',\n",
    "    'date_block_num_and_item_category_id_avg_item_cnt_lag_1',\n",
    "    'date_block_num_and_shop_id_and_item_category_id_avg_item_cnt_lag_1',\n",
    "    'date_block_num_and_shop_id_and_item_id_avg_item_cnt_lag_1',\n",
    "    'delta_price_lag', \n",
    "    'item_shop_last_sale', \n",
    "    'item_last_sale',\n",
    "    'item_first_sale'\n",
    "]]\n",
    "\n",
    "\n",
    "\n",
    "## 数据集的划分\n",
    "#交叉验证集\n",
    "X_valid = data[data.date_block_num == 33].drop(['item_cnt_month'], axis=1)##特征数据集要删掉标签\n",
    "Y_valid = data[data.date_block_num == 33]['item_cnt_month']#标签数据是要保留标签\n",
    "\n",
    "X_zong = data[data.date_block_num < 33].drop(['item_cnt_month'], axis=1)#训练集\n",
    "Y_zong = data[data.date_block_num < 33]['item_cnt_month']\n",
    "\n",
    "# 总得切分一下数据咯（训练集和测试集）\n",
    "X_train, X_test, y_train, y_test = train_test_split(X_valid,Y_valid,test_size = 0.25)\n",
    "\n",
    "X_tests = data[data.date_block_num == 34].drop(['item_cnt_month'], axis=1)\n",
    "\n",
    "xx = pd.concat([X_zong,X_train])\n",
    "yy = pd.concat([Y_zong,y_train])\n",
    "\n",
    "del data,X_valid,Y_valid,X_train,y_train,X_zong,Y_zong\n",
    "gc.collect()"
   ]
  },
  {
   "cell_type": "code",
   "execution_count": 57,
   "metadata": {},
   "outputs": [],
   "source": [
    "xx.to_pickle('xx.pkl')\n",
    "yy.to_pickle('yy.pkl')\n",
    "X_test.to_pickle('X_test.pkl')\n",
    "y_test.to_pickle('y_test.pkl')"
   ]
  },
  {
   "cell_type": "markdown",
   "metadata": {},
   "source": [
    "## 建模训练预测"
   ]
  },
  {
   "cell_type": "code",
   "execution_count": 58,
   "metadata": {},
   "outputs": [
    {
     "name": "stdout",
     "output_type": "stream",
     "text": [
      "[19:39:59] WARNING: D:\\Build\\xgboost\\xgboost-1.0.1.git\\src\\gbm\\gbtree.cc:138: Tree method is automatically selected to be 'approx' for faster speed. To use old behavior (exact greedy algorithm on single machine), set tree_method to 'exact'.\n",
      "[0]\tvalidation_0-rmse:1.18510\tvalidation_1-rmse:1.06626\n",
      "Multiple eval metrics have been passed: 'validation_1-rmse' will be used for early stopping.\n",
      "\n",
      "Will train until validation_1-rmse hasn't improved in 10 rounds.\n",
      "[1]\tvalidation_0-rmse:1.13362\tvalidation_1-rmse:1.02198\n",
      "[2]\tvalidation_0-rmse:1.08848\tvalidation_1-rmse:0.98108\n",
      "[3]\tvalidation_0-rmse:1.05072\tvalidation_1-rmse:0.94821\n",
      "[4]\tvalidation_0-rmse:1.01742\tvalidation_1-rmse:0.92158\n",
      "[5]\tvalidation_0-rmse:0.98905\tvalidation_1-rmse:0.89899\n",
      "[6]\tvalidation_0-rmse:0.96547\tvalidation_1-rmse:0.87825\n",
      "[7]\tvalidation_0-rmse:0.94568\tvalidation_1-rmse:0.86233\n",
      "[8]\tvalidation_0-rmse:0.93023\tvalidation_1-rmse:0.85069\n",
      "[9]\tvalidation_0-rmse:0.91327\tvalidation_1-rmse:0.83729\n",
      "[10]\tvalidation_0-rmse:0.90062\tvalidation_1-rmse:0.82730\n",
      "[11]\tvalidation_0-rmse:0.88907\tvalidation_1-rmse:0.81939\n",
      "[12]\tvalidation_0-rmse:0.87896\tvalidation_1-rmse:0.81255\n",
      "[13]\tvalidation_0-rmse:0.87025\tvalidation_1-rmse:0.80684\n",
      "[14]\tvalidation_0-rmse:0.86279\tvalidation_1-rmse:0.80172\n",
      "[15]\tvalidation_0-rmse:0.85607\tvalidation_1-rmse:0.79648\n",
      "[16]\tvalidation_0-rmse:0.85036\tvalidation_1-rmse:0.79200\n",
      "[17]\tvalidation_0-rmse:0.84440\tvalidation_1-rmse:0.78887\n",
      "[18]\tvalidation_0-rmse:0.83923\tvalidation_1-rmse:0.78642\n",
      "[19]\tvalidation_0-rmse:0.83434\tvalidation_1-rmse:0.78164\n",
      "[20]\tvalidation_0-rmse:0.82985\tvalidation_1-rmse:0.77744\n",
      "[21]\tvalidation_0-rmse:0.82602\tvalidation_1-rmse:0.77589\n",
      "[22]\tvalidation_0-rmse:0.82243\tvalidation_1-rmse:0.77396\n",
      "[23]\tvalidation_0-rmse:0.81819\tvalidation_1-rmse:0.77117\n",
      "[24]\tvalidation_0-rmse:0.81459\tvalidation_1-rmse:0.76878\n",
      "[25]\tvalidation_0-rmse:0.81187\tvalidation_1-rmse:0.76709\n",
      "[26]\tvalidation_0-rmse:0.80929\tvalidation_1-rmse:0.76555\n",
      "[27]\tvalidation_0-rmse:0.80627\tvalidation_1-rmse:0.76282\n",
      "[28]\tvalidation_0-rmse:0.80437\tvalidation_1-rmse:0.76132\n",
      "[29]\tvalidation_0-rmse:0.80223\tvalidation_1-rmse:0.76003\n",
      "[30]\tvalidation_0-rmse:0.80030\tvalidation_1-rmse:0.75936\n",
      "[31]\tvalidation_0-rmse:0.79828\tvalidation_1-rmse:0.75812\n",
      "[32]\tvalidation_0-rmse:0.79640\tvalidation_1-rmse:0.75746\n",
      "[33]\tvalidation_0-rmse:0.79456\tvalidation_1-rmse:0.75753\n",
      "[34]\tvalidation_0-rmse:0.79298\tvalidation_1-rmse:0.75659\n",
      "[35]\tvalidation_0-rmse:0.79159\tvalidation_1-rmse:0.75566\n",
      "[36]\tvalidation_0-rmse:0.79007\tvalidation_1-rmse:0.75474\n",
      "[37]\tvalidation_0-rmse:0.78896\tvalidation_1-rmse:0.75397\n",
      "[38]\tvalidation_0-rmse:0.78734\tvalidation_1-rmse:0.75313\n",
      "[39]\tvalidation_0-rmse:0.78600\tvalidation_1-rmse:0.75261\n",
      "[40]\tvalidation_0-rmse:0.78470\tvalidation_1-rmse:0.75182\n",
      "[41]\tvalidation_0-rmse:0.78365\tvalidation_1-rmse:0.75134\n",
      "[42]\tvalidation_0-rmse:0.78275\tvalidation_1-rmse:0.75058\n",
      "[43]\tvalidation_0-rmse:0.78154\tvalidation_1-rmse:0.74953\n",
      "[44]\tvalidation_0-rmse:0.78072\tvalidation_1-rmse:0.74899\n",
      "[45]\tvalidation_0-rmse:0.77910\tvalidation_1-rmse:0.74729\n",
      "[46]\tvalidation_0-rmse:0.77801\tvalidation_1-rmse:0.74686\n",
      "[47]\tvalidation_0-rmse:0.77668\tvalidation_1-rmse:0.74569\n",
      "[48]\tvalidation_0-rmse:0.77602\tvalidation_1-rmse:0.74536\n",
      "[49]\tvalidation_0-rmse:0.77499\tvalidation_1-rmse:0.74458\n",
      "[50]\tvalidation_0-rmse:0.77401\tvalidation_1-rmse:0.74403\n",
      "[51]\tvalidation_0-rmse:0.77286\tvalidation_1-rmse:0.74320\n",
      "[52]\tvalidation_0-rmse:0.77202\tvalidation_1-rmse:0.74301\n",
      "[53]\tvalidation_0-rmse:0.77111\tvalidation_1-rmse:0.74248\n",
      "[54]\tvalidation_0-rmse:0.77032\tvalidation_1-rmse:0.74232\n",
      "[55]\tvalidation_0-rmse:0.76953\tvalidation_1-rmse:0.74176\n",
      "[56]\tvalidation_0-rmse:0.76895\tvalidation_1-rmse:0.74130\n",
      "[57]\tvalidation_0-rmse:0.76826\tvalidation_1-rmse:0.74105\n",
      "[58]\tvalidation_0-rmse:0.76760\tvalidation_1-rmse:0.74068\n",
      "[59]\tvalidation_0-rmse:0.76648\tvalidation_1-rmse:0.74051\n",
      "[60]\tvalidation_0-rmse:0.76561\tvalidation_1-rmse:0.74004\n",
      "[61]\tvalidation_0-rmse:0.76445\tvalidation_1-rmse:0.73819\n",
      "[62]\tvalidation_0-rmse:0.76380\tvalidation_1-rmse:0.73765\n",
      "[63]\tvalidation_0-rmse:0.76301\tvalidation_1-rmse:0.73715\n",
      "[64]\tvalidation_0-rmse:0.76250\tvalidation_1-rmse:0.73706\n",
      "[65]\tvalidation_0-rmse:0.76169\tvalidation_1-rmse:0.73678\n",
      "[66]\tvalidation_0-rmse:0.76104\tvalidation_1-rmse:0.73681\n",
      "[67]\tvalidation_0-rmse:0.76048\tvalidation_1-rmse:0.73663\n",
      "[68]\tvalidation_0-rmse:0.75970\tvalidation_1-rmse:0.73627\n",
      "[69]\tvalidation_0-rmse:0.75909\tvalidation_1-rmse:0.73623\n",
      "[70]\tvalidation_0-rmse:0.75784\tvalidation_1-rmse:0.73550\n",
      "[71]\tvalidation_0-rmse:0.75737\tvalidation_1-rmse:0.73537\n",
      "[72]\tvalidation_0-rmse:0.75691\tvalidation_1-rmse:0.73513\n",
      "[73]\tvalidation_0-rmse:0.75631\tvalidation_1-rmse:0.73516\n",
      "[74]\tvalidation_0-rmse:0.75544\tvalidation_1-rmse:0.73491\n",
      "[75]\tvalidation_0-rmse:0.75484\tvalidation_1-rmse:0.73475\n",
      "[76]\tvalidation_0-rmse:0.75416\tvalidation_1-rmse:0.73435\n",
      "[77]\tvalidation_0-rmse:0.75288\tvalidation_1-rmse:0.73244\n",
      "[78]\tvalidation_0-rmse:0.75248\tvalidation_1-rmse:0.73228\n",
      "[79]\tvalidation_0-rmse:0.75213\tvalidation_1-rmse:0.73226\n",
      "[80]\tvalidation_0-rmse:0.75159\tvalidation_1-rmse:0.73202\n",
      "[81]\tvalidation_0-rmse:0.75099\tvalidation_1-rmse:0.73176\n",
      "[82]\tvalidation_0-rmse:0.75054\tvalidation_1-rmse:0.73133\n",
      "[83]\tvalidation_0-rmse:0.74985\tvalidation_1-rmse:0.73080\n",
      "[84]\tvalidation_0-rmse:0.74932\tvalidation_1-rmse:0.73034\n",
      "[85]\tvalidation_0-rmse:0.74897\tvalidation_1-rmse:0.73027\n",
      "[86]\tvalidation_0-rmse:0.74845\tvalidation_1-rmse:0.73033\n",
      "[87]\tvalidation_0-rmse:0.74790\tvalidation_1-rmse:0.73049\n",
      "[88]\tvalidation_0-rmse:0.74750\tvalidation_1-rmse:0.73045\n",
      "[89]\tvalidation_0-rmse:0.74726\tvalidation_1-rmse:0.73046\n",
      "[90]\tvalidation_0-rmse:0.74671\tvalidation_1-rmse:0.73026\n",
      "[91]\tvalidation_0-rmse:0.74656\tvalidation_1-rmse:0.73019\n",
      "[92]\tvalidation_0-rmse:0.74632\tvalidation_1-rmse:0.73029\n",
      "[93]\tvalidation_0-rmse:0.74583\tvalidation_1-rmse:0.73037\n",
      "[94]\tvalidation_0-rmse:0.74548\tvalidation_1-rmse:0.73012\n",
      "[95]\tvalidation_0-rmse:0.74497\tvalidation_1-rmse:0.73006\n",
      "[96]\tvalidation_0-rmse:0.74404\tvalidation_1-rmse:0.72907\n",
      "[97]\tvalidation_0-rmse:0.74373\tvalidation_1-rmse:0.72889\n",
      "[98]\tvalidation_0-rmse:0.74317\tvalidation_1-rmse:0.72869\n",
      "[99]\tvalidation_0-rmse:0.74267\tvalidation_1-rmse:0.72840\n"
     ]
    },
    {
     "data": {
      "text/plain": [
       "1131.680795431137"
      ]
     },
     "execution_count": 58,
     "metadata": {},
     "output_type": "execute_result"
    }
   ],
   "source": [
    "ts = time.time()\n",
    "model = XGBRegressor(\n",
    "    max_depth=10,\n",
    "    n_estimators=100,\n",
    "    min_child_weight=0.5, \n",
    "    colsample_bytree=0.9, \n",
    "    subsample=0.8, \n",
    "    num_round = 10000,\n",
    "    nthread = 16,\n",
    "    eta=0.1,\n",
    "    seed=1)\n",
    "\n",
    "model.fit(xx, yy, eval_metric=\"rmse\", eval_set=[(xx,yy),(X_test,y_test)], verbose=True, early_stopping_rounds = 10)\n",
    "time.time() - ts"
   ]
  },
  {
   "cell_type": "code",
   "execution_count": 59,
   "metadata": {},
   "outputs": [],
   "source": [
    "Y_tests = model.predict(X_tests).clip(0, 20)##把数据放到0-20之间"
   ]
  },
  {
   "cell_type": "code",
   "execution_count": 60,
   "metadata": {},
   "outputs": [
    {
     "name": "stdout",
     "output_type": "stream",
     "text": [
      "[1.0533099  0.4310724  2.4542518  ... 0.05670297 0.00734708 0.03281468]\n"
     ]
    }
   ],
   "source": [
    "print(Y_tests)"
   ]
  },
  {
   "cell_type": "code",
   "execution_count": 61,
   "metadata": {},
   "outputs": [],
   "source": [
    "test  = pd.read_csv('DATA/test.csv').set_index('ID')\n",
    "submission = pd.DataFrame({\n",
    "    \"ID\": test.index, \n",
    "    \"item_cnt_month\": Y_tests\n",
    "})\n",
    "submission.to_csv('xgb_submission1.csv', index=False)"
   ]
  },
  {
   "cell_type": "code",
   "execution_count": null,
   "metadata": {},
   "outputs": [],
   "source": []
  },
  {
   "cell_type": "code",
   "execution_count": null,
   "metadata": {},
   "outputs": [],
   "source": []
  },
  {
   "cell_type": "code",
   "execution_count": null,
   "metadata": {},
   "outputs": [],
   "source": []
  },
  {
   "cell_type": "code",
   "execution_count": null,
   "metadata": {},
   "outputs": [],
   "source": []
  },
  {
   "cell_type": "code",
   "execution_count": null,
   "metadata": {},
   "outputs": [],
   "source": []
  },
  {
   "cell_type": "code",
   "execution_count": null,
   "metadata": {},
   "outputs": [],
   "source": []
  },
  {
   "cell_type": "code",
   "execution_count": null,
   "metadata": {},
   "outputs": [],
   "source": []
  },
  {
   "cell_type": "code",
   "execution_count": null,
   "metadata": {},
   "outputs": [],
   "source": []
  },
  {
   "cell_type": "code",
   "execution_count": null,
   "metadata": {},
   "outputs": [],
   "source": []
  }
 ],
 "metadata": {
  "kernelspec": {
   "display_name": "Python 3",
   "language": "python",
   "name": "python3"
  },
  "language_info": {
   "codemirror_mode": {
    "name": "ipython",
    "version": 3
   },
   "file_extension": ".py",
   "mimetype": "text/x-python",
   "name": "python",
   "nbconvert_exporter": "python",
   "pygments_lexer": "ipython3",
   "version": "3.7.3"
  }
 },
 "nbformat": 4,
 "nbformat_minor": 2
}
